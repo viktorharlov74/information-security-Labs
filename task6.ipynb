{
 "cells": [
  {
   "cell_type": "markdown",
   "metadata": {},
   "source": [
    "Задание 6.\n",
    "Задание: Расшифруйте данные зашифрованные XOR'ом с повторяющимся ключом.\n",
    "Входные данные: ссылка\n"
   ]
  },
  {
   "cell_type": "markdown",
   "metadata": {},
   "source": [
    "# Решением задачи"
   ]
  },
  {
   "cell_type": "code",
   "execution_count": 388,
   "metadata": {},
   "outputs": [],
   "source": [
    "import binascii"
   ]
  },
  {
   "cell_type": "code",
   "execution_count": 389,
   "metadata": {},
   "outputs": [],
   "source": [
    "import string"
   ]
  },
  {
   "cell_type": "code",
   "execution_count": 390,
   "metadata": {},
   "outputs": [],
   "source": [
    "#Функция для конвертации из одной системы счисления в другую\n",
    "def convert_base(num, to_base=10, from_base=10):\n",
    "    # first convert to decimal number\n",
    "    if isinstance(num, str):\n",
    "        n = int(num, from_base)\n",
    "    else:\n",
    "        n = int(num)\n",
    "    # now convert decimal to 'to_base' base\n",
    "    alphabet = \"0123456789ABCDEFGHIJKLMNOPQRSTUVWXYZ\"\n",
    "    if n < to_base:\n",
    "        return alphabet[n]\n",
    "    else:\n",
    "        return convert_base(n // to_base, to_base) + alphabet[n % to_base]"
   ]
  },
  {
   "cell_type": "code",
   "execution_count": 391,
   "metadata": {},
   "outputs": [],
   "source": [
    "def DecodeBaseFromBin(test,lens_2):\n",
    "    mas=\"ABCDEFGHIJKLMNOPQRSTUVWXYZabcdefghijklmnopqrstuvwxyz0123456789+/\"\n",
    "    str_final=\"\"\n",
    "    last_i=0\n",
    "    for i in range(6,lens_2+1,6):\n",
    "        if (i==lens_2-1):\n",
    "            tempblock=test[last_i:]\n",
    "        else:\n",
    "            tempblock=test[last_i:i]\n",
    "        ten_block=convert_base(tempblock, from_base=2,to_base=10)\n",
    "\n",
    "        str_final=str_final+mas[int(ten_block)]\n",
    "\n",
    "        last_i=i\n",
    "    return(str_final)"
   ]
  },
  {
   "cell_type": "code",
   "execution_count": 392,
   "metadata": {},
   "outputs": [],
   "source": [
    "def DecodeEndFromBin(test,lens_2,ost_2):\n",
    "    new_str=test[lens_2:]\n",
    "    add_ravn=(24-ost_2)\n",
    "    if (add_ravn%16==0):\n",
    "        add_ravn=2\n",
    "    else:\n",
    "        add_ravn=1\n",
    "    ost_new_swr=len(new_str)%6\n",
    "    if (ost_new_swr!=0):\n",
    "        lens_new=abs(ost_new_swr-6)\n",
    "        for i in range(lens_new):\n",
    "            new_str=new_str+\"0\"\n",
    "\n",
    "    end=DecodeBaseFromBin(new_str,len(new_str))\n",
    "\n",
    "    for i in range(add_ravn):\n",
    "        end=end+\"=\"\n",
    "\n",
    "    return end"
   ]
  },
  {
   "cell_type": "code",
   "execution_count": 393,
   "metadata": {},
   "outputs": [],
   "source": [
    "def DecodeBase64FromHex(test):\n",
    "    test=test.replace(' ', '')\n",
    "    test=convert_base(test, from_base=16,to_base=2)\n",
    "    lentest=len(test)\n",
    "    ost=lentest%4\n",
    "    if (ost!=0):\n",
    "        if (ost==3):\n",
    "            lens=abs(ost-4)\n",
    "            for i in range(lens):\n",
    "                test=\"0\"+test\n",
    "    lentest_2=len(test)\n",
    "    ost_2=lentest_2%24\n",
    "    lens_2=lentest_2-ost_2\n",
    "    base_str=DecodeBaseFromBin(test,lens_2)\n",
    "    if (ost_2!=0):\n",
    "        end_str=DecodeEndFromBin(test,lens_2,ost_2)\n",
    "        return base_str+end_str\n",
    "    else:\n",
    "        return base_str"
   ]
  },
  {
   "cell_type": "code",
   "execution_count": 421,
   "metadata": {},
   "outputs": [],
   "source": [
    "#Функция для конвертация символа в 16ричное значение\n",
    "def ConvertCharsStrToHex(str_val):\n",
    "    str_val= bytes(str_val, 'utf-8')\n",
    "    str_val=binascii.hexlify(str_val).decode('utf-8')\n",
    "    #print(str_val,\"str_val\")\n",
    "    return str_val"
   ]
  },
  {
   "cell_type": "code",
   "execution_count": 395,
   "metadata": {},
   "outputs": [],
   "source": [
    "def XORbin(buf1,buf2):\n",
    "    final_str=\"\"\n",
    "    #print(abs(len(str(buf1))-len(str(buf2))),str(buf1))\n",
    "    for i in range(abs(len(buf1)-len(buf2))):\n",
    "        if (len(buf1)>len(buf2)):\n",
    "            buf2=\"0\"+buf2\n",
    "        if (len(buf1)<len(buf2)):\n",
    "            buf1=\"0\"+buf1\n",
    "    #print(buf1,buf2,\"<-aftermoderation\")\n",
    "    for i in range(len(buf1)):\n",
    "        bit=int(buf1[i])^int(buf2[i])\n",
    "        final_str=final_str+str(bit)\n",
    "    #print(buf1,buf2,final_str,\"<-xor\")\n",
    "    return final_str"
   ]
  },
  {
   "cell_type": "code",
   "execution_count": null,
   "metadata": {},
   "outputs": [],
   "source": []
  },
  {
   "cell_type": "code",
   "execution_count": 396,
   "metadata": {},
   "outputs": [],
   "source": [
    "# Шифрует текст из файла с повторяющимся ключом и возвращает зашифрованную строку в hex\n",
    "def ShifrXorWithRepeatKey(file_name,key_str):\n",
    "    start_str=\"\";\n",
    "    f = open(file_name)\n",
    "    for line in f:\n",
    "        start_str+=line\n",
    "\n",
    "    start_str=start_str.strip(\"\\n\")\n",
    "    keystart=key_str\n",
    "    key_str_final=key_str\n",
    "    k=0\n",
    "    final_k=len(keystart)-1\n",
    "    while (len(key_str_final)!=len(start_str)):\n",
    "        if (k>final_k):\n",
    "            k=0\n",
    "        key_str_final=key_str_final+keystart[k]\n",
    "        k+=1\n",
    "    Hex_buf=ConvertCharsStrToHex(start_str)\n",
    "    Hex_buf_key=ConvertCharsStrToHex(key_str_final)\n",
    "    res=XORbuffer(Hex_buf,Hex_buf_key)\n",
    "    res=res.zfill(len(Hex_buf))\n",
    "    return res.lower()"
   ]
  },
  {
   "cell_type": "code",
   "execution_count": 397,
   "metadata": {},
   "outputs": [],
   "source": [
    "# Шифрует текст из файла с повторяющимся ключом и возвращает зашифрованную строку в hex\n",
    "def ShifrXorWithRepeatKey(file_name,key_str):\n",
    "    start_str=\"\";\n",
    "    f = open(file_name)\n",
    "    for line in f:\n",
    "        start_str+=line\n",
    "\n",
    "    start_str=start_str.strip(\"\\n\")\n",
    "    keystart=key_str\n",
    "    key_str_final=key_str\n",
    "    k=0\n",
    "    final_k=len(keystart)-1\n",
    "    while (len(key_str_final)!=len(start_str)):\n",
    "        if (k>final_k):\n",
    "            k=0\n",
    "        key_str_final=key_str_final+keystart[k]\n",
    "        k+=1\n",
    "    Hex_buf=ConvertCharsStrToHex(start_str)\n",
    "    Hex_buf_key=ConvertCharsStrToHex(key_str_final)\n",
    "    res=XORbuffer(Hex_buf,Hex_buf_key)\n",
    "    res=res.zfill(len(Hex_buf))\n",
    "    return res.lower()"
   ]
  },
  {
   "cell_type": "code",
   "execution_count": 419,
   "metadata": {},
   "outputs": [],
   "source": [
    "import base64\n",
    "code = \"SSdtIHN0dWR5aW5nIENyeXB0b2dyYXBoeSBsaWtlIENsYXVkZSBFbHdvb2QgU2hhbm5vbiE=\"\n"
   ]
  },
  {
   "cell_type": "code",
   "execution_count": 407,
   "metadata": {},
   "outputs": [],
   "source": [
    "def ConvertBase64toText(code):\n",
    "    byte_text=base64.b64decode(code)\n",
    "    return byte_text.decode(\"utf-8\") "
   ]
  },
  {
   "cell_type": "code",
   "execution_count": 408,
   "metadata": {},
   "outputs": [],
   "source": [
    "def ConvertHextoString(code):    \n",
    "    byte_text=codecs.decode(code, \"hex\")\n",
    "    return byte_text"
   ]
  },
  {
   "cell_type": "code",
   "execution_count": 432,
   "metadata": {},
   "outputs": [],
   "source": [
    "dell=ConvertBase64toText('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')\n",
    "dell_hex=ConvertCharsStrToHex(dell)"
   ]
  },
  {
   "cell_type": "code",
   "execution_count": 427,
   "metadata": {},
   "outputs": [],
   "source": []
  },
  {
   "cell_type": "code",
   "execution_count": 433,
   "metadata": {},
   "outputs": [
    {
     "data": {
      "text/plain": [
       "'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'"
      ]
     },
     "execution_count": 433,
     "metadata": {},
     "output_type": "execute_result"
    }
   ],
   "source": [
    "dell_hex"
   ]
  },
  {
   "cell_type": "code",
   "execution_count": 435,
   "metadata": {},
   "outputs": [],
   "source": [
    "import codecs"
   ]
  },
  {
   "cell_type": "code",
   "execution_count": 436,
   "metadata": {},
   "outputs": [
    {
     "data": {
      "text/plain": [
       "'\\x1a\\x00\\x15E\\x16\\x15R\\'MU\\x1a\\n\\x19C\\x14U+\\x0c\\x1aY\\x1c\\x027\\n\\x12\\x16R\\x00H)A\\x03\\x13\\t\\x0bC\\x07E.\\x06\\x19Xe\\'<O\\x16\\r\\x17TD%\\x0cU\\x14\\x04\\x1c\\x0e\\x16\\x0cb\\x05\\x01\\x16\\x04Br\\x01\\r\\x11R\\x15\\x00;\\x08\\x1b\\x16\\n\\x19C\\x16H+\\x07\\x0b\\nUd\\x16\\x06\\x11\\x11\\x13\\x1aT \\x18U\\x1a\\x00\\x0f\\x11\\x01\\x00#\\x04\\x01\\x17\\x08N&\\x07\\x07E\\x1e\\x1bN)\\r\\x0cR\\x15\\x07\\r\\x00Snc&\\x16\\x18N!\\x00\\x04\\x11R\\x00H)A\\x19\\x13\\x0b\\t\\x16\\x0cDb\\x08\\x1b\\r\\x1a\\x03<O\\x00\\x17\\x17\\x11Z)\\x12U\\x14\\t\\x01\\x14op#\\x1a\\x1aY\\x02\\x0b~O\\x03\\x0b\\x16TK%\\x12\\x06R\\x08\\x17C\\rA+\\x1bBY\\x0e\\x006O\\x01\\r\\x17\\x11K`A\\x14\\x1c\\x01N\\x0e\\nU6\\x01Os\\'\\x0f>\\tOH\\x04\\x11I \\x04\\x11R\\x0c\\x1dC\\x11H\\'I\\r\\x18\\x03\\x03r\\x1c\\t\\x1cH~j9\\x11\\x1c\\x06\\x00\\x1cD\\x16\\x00)\\x00\\x00\\x1e\\x03\\x17r\\n\\x1b\\x00x5L#\\x0f\\x10R\\x02\\x02\\x0c\\x12Sb\\x0f\\x1b\\x15\\x03N;\\x01B\\x11\\x1a\\x11\\x009\\x0f\\x16\\x1e\\n\\x1b\\x07\\x00Db:\\x01\\x0c\\x1b\\x06|eh$\\x1e\\x15SmA\\x14\\x1c\\x01N\\x00\\x04Nb\\x1a\\x19\\x1c\\n\\x1ar!\\x0b\\x02\\x1a\\x00\\x00-\\x17\\x14\\x1b\\tN\\x17\\n\\x00*\\x0c\\x0f\\x15e =\\x1bB\\n\\x1c\\x11\\x00#\\x07U\\x06\\r\\x0bC\\x12O0\\x05\\n^\\x1cN%\\x00\\x17\\x0b\\x16\\x07\\x1fl,\\x00\\x01\\x11N*I\\x00\\'\\x1f\\x0b\\x17O\\x067\\x1d\\x07Ix\\'T%\\r\\x19R\\t\\x07\\x10\\x11E,I\\x19\\x10\\x1b\\x06r\\x1b\\n\\x00R\\x19I\"\\x05R\\x01E\\x1a\\x0c\\n\\x005\\x08\\x05\\x1c\\t\\x1b>O\\x07\\x04\\x00~t#A\\x01\\x1a\\x04\\x1aC\\x16A&I\\x1d\\x16\\x1a\\x006CB\\x12\\x1a\\x1dC$A\\x1c\\x1cE\\x03\\x1aEF.\\x0c\\x1d\\x11O\\'r\\t\\x07\\x00\\x1eO*\\x1f\\x0e\\x00\\x1c\\x01N\\x0c\\x03\\x007\\x07\\x1c\\x1c\\x1c\\x1a;\\x01\\x05IR\\x01N>\\x04\\x1f\\x1d\\x0c\\r\\n\\x0bGb\\x0f\\x0b\\x1c\\x1bBX8\\x0b\\x11\\x1aTF)\\x17\\x10\\x00\\x0c\\x1d\\x0bES6\\x0c\\x1e\\nO\\x01 O\\x11\\t\\x1d\\x03*\\n\\x0e\\x07R\\x00\\x18\\x06\\x17\\x0cb\\x1d\\x01Y\\x0e\\x006O\\x04\\x17\\x1dX*\\x1c\\x00\\x16\\x1b\\x0b\\tC\\x11H\\'I\\t\\x18\\x16Br\\x1b\\n\\x17\\x1d\\x1aG)\\x05YR\\x03\\x1c\\n\\x00N&\\x05\\x0b\\n\\x1cBr\\x1c\\x16\\n\\x1c\\r\\x00?\\x15\\x07\\x17\\x00\\x1a\\\\o*\\x0c\\x08\\x1a\\x0c\\x1d\\x0br\\x06\\x11E\\x14\\x06E)ZU\\x10\\x10\\x1aC(A,I\\x1a\\x11\\nN7\\x1b\\x07\\x17\\x1c\\x15Ll\\x12\\x19\\x13\\x13\\x0bi*Fb\\n\\x0f\\x0b\\nN3\\x01\\x06E\\x02\\x15S?\\x08\\x1a\\x1cKN.\\x10S6I\\'Y\\x0b\\x0b7\\x02B\\x11\\x1a\\x15Tl\\x15\\x07\\x07\\x00Qi2I6\\x01N\\x1f\\x06\\x0b>\\x0b\\x11E\\x13\\x1aDl\\x10\\x00\\x1b\\x00\\x1aC\\rA4\\x0cN\\x0e\\nN<\\x00\\x17\\x02\\x1a\\x00\\x008\\x0eU\\x16\\nBi\\'E!\\x08\\x1b\\n\\nN=\\x1a\\x10E\\x01\\x04I>\\x08\\x01\\x01E\\x08\\x0c\\x17\\x00\\'\\x1f\\x0b\\x0bO\\r \\x0e\\x14\\x00R\\x15N(A\\x16\\x00\\x04\\x18\\x06I*\\x03\\x07\\nY\\x01\\x0b$\\n\\x10E\\x14\\x1bU\"\\x05U\\x06\\r\\x0b\\n\\x17\\x001\\x08\\x1a\\x10\\x1c\\x083\\x0c\\x16\\x0c\\x1d\\x1a\\x005\\x04\\x01Mo9\\x0c\\x17L&EN\\x10\\x1cN&\\x07\\x1bE\\x1a\\x11A>\\x15U\\x01\\nN\\x00\\nL&Ed*\\x00N6\\n\\x07\\x15\\x1e\\r\\x00;\\x04\\x14\\x00\\x1cN\\x02\\x0bDb\\x06\\x02\\x1dCd\\x06\\x07\\x03\\x11R\\x00H5A\\x06\\x1d\\t\\x0bC\\x07U1\\x00\\x00\\x1c\\x1c\\x1dr\\x06\\x11E\\x10\\x01Tl\\x15\\x1aR\\x03\\x01\\x11\\x02E6Vds!\\x01~O\\x0c\\nSTT$\\x04\\x06\\x17E\\x1e\\x06\\x17F\\'\\n\\x1aY\\x1b\\x1c7\\n\\x11IR\\x03I8\\tU\\x05\\r\\x07\\x10\\x15E0\\x00\\x00\\x1eO\\x18=\\x06\\x01\\x00^~t$\\x04\\x06\\x17E\\x08\\x0f\\nW\\'\\x1b\\x1dUO\\x1a:\\x0e\\x16E\\x1a\\x15V)A\\x01\\x1dE\\x1a\\x0b\\x00Eb\\x08N\\n\\x00\\x023\\x0c\\x07E\\x10\\x11E\"M\\x7f3\\x0b\\nC\\x1cE6I\\x0f\\x17O\\x0f>\\x06\\x07\\x0bR\\x07O \\x00\\x16\\x17IN\\x10\\n\\x001\\x0c\\x1c\\x1c\\x01\\x0bX;\\n\\x00\\x0bTL%\\x17\\x10^E\\x0f\\r\\x01\\x00+\\x07N\\r\\x07\\x0b;\\x1dB\\t\\x1b\\x12El\\x12\\x10\\x17\\x08N\\x17\\n\\x000\\x0c\\x04\\x16\\x06\\r7Th)\\x1b\\x12El\\t\\x1a\\x05E\\x1b\\r\\tI)\\x0cN\\r\\x00N&\\x07\\x0b\\x0b\\x17U\\x00\\x18\\t\\x10\\x01\\x00N\\x05\\tO5\\x0c\\x1c\\nCN&\\x07\\x07\\x16\\x17TT>\\x04\\x10\\x01Id\"\\x17Eb\\n\\x06\\x10\\x03\\n \\n\\x0cE\\x1d\\x12\\x00#\\x0f\\x10R\\x07\\x07\\x11\\x11HH>\\x07\\r\\x07N&\\x07\\x07\\x00^Tol,\\x14\\x1c^N\\x02\\x16\\x00\\x07\\x08\\x1c\\r\\x07BX*\\x03\\x17\\x06\\x1c\\x0cl\\x12\\x01\\x1b\\t\\x02C\\x16Ob\\x0f\\x0f\\x10\\x1dBr\\t\\r\\x17R\\x15L A\\x01\\x1a\\x1cN\\x11\\x04V#\\x0e\\x0b\\nCdX&\\x11E\\x01\\x1dS8\\x04\\x07R\\x11\\x01C\\x1cO,I\\x1c\\x18\\x0b\\x073\\x01\\x16E8\\x01P%\\x15\\x10\\x00Id4\\rOb\\x1e\\x07\\r\\x07N!\\x1a\\x01\\rR\\x13L#\\x13\\x1c\\x1d\\x10\\x1dC\\x04N&I\\x1b\\x17\\x1b\\x1c=\\x1a\\x00\\t\\x17\\x10\\x00+\\x00\\x0f\\x17o;\\x13\\nNb\\x01\\x07\\nO\\x01%\\x01B\\x06\\x1d\\x01R?\\x04U\\x10\\x10\\x1c\\r\\x0cN%I\\n\\x16\\x18\\x00r\\'\\x07\\x04\\x04\\x11Nk\\x12U\\x05\\x04\\x17\\x10oa!\\x1b\\x01\\n\\x1cN6\\n\\x07\\x15R\\x07E-\\x12U\\x1d\\x03N\\x07\\x04R)\\x07\\x0b\\n\\x1cN>\\x00\\r\\x0e\\x01TA8A\\x1d\\x17\\x17Oi5E0\\n\\x06\\x18\\x01\\r7O\\x0b\\x0bR\\x1cI?A\\x03\\x13\\x16\\x1aC\\x07O1\\x06\\x03Y\\x07\\x0b~O\\x16\\n\\x1dX\\x00\\'\\x04\\x10\\x02\\x16d/\\x0cK\\'I\\x08\\x1c\\x1d\\x037\\x01\\x16IR\\x18I\\'\\x04U\\x16\\x0c\\x1d\\x17\\x17E1\\x1aUs6\\x0b&O\\x16\\x17\\x13\\x1aQ9\\x08\\x19R\\x16\\x06\\n\\x0bE1I\\x00\\x16\\x1bN>\\n\\x11\\x16^~l#\\x13\\x11R\\n\\x08C\\x11H\\'I\\x00\\x10\\x08\\x06&CB\\x11\\x1a\\x15Tl\\x13\\x1a\\x07\\x0b\\nC\\rI1I\\x1d\\t\\x03\\x0b<\\x0b\\r\\x10\\x00TS \\x04\\x10\\x02\\x16@'"
      ]
     },
     "execution_count": 436,
     "metadata": {},
     "output_type": "execute_result"
    }
   ],
   "source": [
    "codecs.decode(dell_hex, \"hex\").decode(\"utf-8\") "
   ]
  },
  {
   "cell_type": "code",
   "execution_count": 32,
   "metadata": {},
   "outputs": [
    {
     "data": {
      "text/plain": [
       "b'\\x19\\x84\\x00\\x87\\x07\\x07\\x87\\x19\\x84\\x00\\x87\\x07\\x07\\x87\\x1e\\x87\\x00\\xd5\\x07R\\x87\\x19\\x85Q\\x86S\\x07\\x80\\x1a\\x85\\x01\\xd3\\x06\\x02\\x87K\\x84Q\\x83Q\\x06\\xd6\\x1a\\xd7\\x04\\x8f\\x06\\x02\\x87\\x1f\\x84R\\x83Q\\x07\\x8f\\x1a\\xd5\\x00\\xd3\\x07S\\x87H\\x80U\\x87\\x07\\x07\\x8f\\x1e\\x87\\x00\\xd5\\x06\\x04\\x86\\x1e\\x85U\\x86U\\x07\\xd1\\x1a\\xd0\\x00\\x8e\\x07S\\x86\\x1e\\x85T\\x87\\x01\\x06\\xd3\\x1e\\x87\\x00\\xd2\\x07R\\x86J\\x80U\\x87\\x06\\x07\\xd1\\x1b\\x83\\x00\\x86\\x07R\\x87\\x19\\x84V\\x87\\x04\\x03\\xd2\\x1a\\x83\\x00\\xd3\\x07\\x00\\x87K\\x84\\x00\\x86T\\x07\\xd5\\x1e\\x87\\x00\\xd4\\x06\\x03\\x86J\\x84\\x07\\x87\\x06\\x07\\x8e\\x1e\\x87\\x03\\xd1\\x07R\\x86J\\x84\\x02\\x87U\\x03\\xd2\\x19\\x80\\x00\\x8e\\x06\\x04\\x83L\\x86\\x07\\x85\\x01\\x03\\x85\\x1e\\x87\\x06\\x85\\x07\\x0f\\x87\\x19\\x84T\\x87\\x04\\x06\\xd5\\x1a\\x83\\x00\\x86\\x07Q\\x87\\x10\\x80U\\x87\\x00\\x07\\x80\\x1b\\x84\\x04\\x8f\\x07\\x04\\x87O\\x85T\\x87\\x01\\x07\\xd3\\x1e\\x87\\x01\\xd1\\x07R\\x86J\\x84\\x05\\x83Q\\x07\\x86\\x1a\\xd0\\x04\\x8f\\x07\\x05\\x87\\x18\\x84Q\\x87V\\x07\\xd4\\x1b\\x85\\x00\\xd3\\x07\\x07\\x87\\x1c\\x84\\x07\\x87\\x06\\x07\\x8e\\x1e\\x87\\x00\\x8e\\x07Q\\x87H\\x80U\\x86T\\x07\\xd5\\x1a\\x84\\x01\\xd3\\x06\\x04\\x87K\\x80U\\x86U\\x07\\xd5\\x1a\\xd2\\x00\\xd3\\x07\\x05\\x87\\x18\\x84\\x03\\x87\\x05\\x06\\xd5\\x1a\\xd0\\x00\\x86\\x07\\x05\\x87O\\x85Q\\x87\\x01\\x07\\x86\\x1a\\xd0\\x01\\xd5\\x03Q'"
      ]
     },
     "execution_count": 32,
     "metadata": {},
     "output_type": "execute_result"
    }
   ],
   "source": [
    "ConvertHextoString(\"19840087070787198400870707871e8700d5075287198551865307801a8501d30602874b8451835106d61ad7048f0602871f84528351078f1ad500d30753874880558707078f1e8700d50604861e8555865507d11ad0008e0753861e8554870106d31e8700d20752864a8055870607d11b830086075287198456870403d21a8300d30700874b8400865407d51e8700d40603864a84078706078e1e8703d10752864a8402875503d21980008e0604834c8607850103851e870685070f87198454870406d51a830086075187108055870007801b84048f0704874f8554870107d31e8701d10752864a8405835107861ad0048f070587188451875607d41b8500d30707871c84078706078e1e87008e075187488055865407d51a8401d30604874b8055865507d51ad200d3070587188403870506d51ad000860705874f8551870107861ad001d50351\")"
   ]
  },
  {
   "cell_type": "code",
   "execution_count": 34,
   "metadata": {},
   "outputs": [],
   "source": [
    "#xor для двух 16ричных строк одинаковой длины\n",
    "def XORbuffer(buf1,buf2):\n",
    "    final_str=\"\"\n",
    "    buf1_2=convert_base(str(buf1), from_base=16,to_base=2)\n",
    "    buf2_2=convert_base(str(buf2), from_base=16,to_base=2)\n",
    "    final_str=XORbin(buf1_2,buf2_2)\n",
    "    print(final_str)\n",
    "    final_str_convert=convert_base(str(final_str), from_base=2,to_base=16)\n",
    "    final_str_convert=final_str_convert.zfill(len(buf1))\n",
    "    return final_str_convert"
   ]
  },
  {
   "cell_type": "code",
   "execution_count": 437,
   "metadata": {},
   "outputs": [],
   "source": [
    "def ConvertHextoString(hex_str):\n",
    "    return bytes.fromhex(hex_str).decode(\"utf-8\")"
   ]
  },
  {
   "cell_type": "code",
   "execution_count": 438,
   "metadata": {},
   "outputs": [],
   "source": [
    "def ShifrXorStringtoHex(text,key_str):\n",
    "    start_str=text.strip(\"\\n\")\n",
    "    keystart=key_str\n",
    "    key_str_final=key_str\n",
    "    k=0\n",
    "    final_k=len(keystart)-1\n",
    "    while (len(key_str_final)!=len(start_str)):\n",
    "        if (k>final_k):\n",
    "            k=0\n",
    "        key_str_final=key_str_final+keystart[k]\n",
    "        k+=1\n",
    "    Hex_buf=ConvertCharsStrToHex(start_str)\n",
    "    Hex_buf_key=ConvertCharsStrToHex(key_str_final)\n",
    "    res=XORbuffer(Hex_buf,Hex_buf_key)\n",
    "    res=res.zfill(len(Hex_buf))\n",
    "    res=res.lower()\n",
    "    print(res)\n",
    "    print(ConvertHextoString(res))\n",
    "    return res"
   ]
  },
  {
   "cell_type": "code",
   "execution_count": 357,
   "metadata": {},
   "outputs": [],
   "source": [
    "def XorHex(text,key_str):\n",
    "    res=XORbuffer(text,key_str)\n",
    "    res=res.zfill(len(text))\n",
    "    res=res.lower()\n",
    "    print(res)\n",
    "    print(ConvertHextoString(res))\n",
    "    return res"
   ]
  },
  {
   "cell_type": "code",
   "execution_count": 360,
   "metadata": {},
   "outputs": [
    {
     "data": {
      "text/plain": [
       "'74657374202d6865782073756b61'"
      ]
     },
     "execution_count": 360,
     "metadata": {},
     "output_type": "execute_result"
    }
   ],
   "source": [
    "ConvertCharsStrToHex(ConvertHextoString('74657374202d6865782073756b61'))"
   ]
  },
  {
   "cell_type": "code",
   "execution_count": 362,
   "metadata": {},
   "outputs": [],
   "source": [
    "#xor для двух 16ричных строк одинаковой длины\n",
    "def XORbuffer2(buf1,buf2):\n",
    "    final_str=\"\"\n",
    "    buf1_2=convert_base(str(buf1), from_base=16,to_base=2)\n",
    "    buf2_2=convert_base(str(buf2), from_base=16,to_base=2)\n",
    "    final_str=XORbin(buf1_2,buf2_2)\n",
    "    print(final_str)\n",
    "    final_str_convert=convert_base(str(final_str), from_base=2,to_base=16)\n",
    "    final_str_convert=final_str_convert.zfill(len(buf1))\n",
    "    return final_str_convert"
   ]
  },
  {
   "cell_type": "code",
   "execution_count": 363,
   "metadata": {},
   "outputs": [],
   "source": [
    "def sdigbyte(buf2):\n",
    "    id_sdiga=len(buf2)-8\n",
    "    print(len(buf2)-8)\n",
    "    new_sdig=buf2[id_sdiga:]+buf2[:id_sdiga]\n",
    "    return new_sdig"
   ]
  },
  {
   "cell_type": "code",
   "execution_count": 349,
   "metadata": {},
   "outputs": [],
   "source": [
    "def sdighex(buf2,sdvig=2):\n",
    "    id_sdiga=len(buf2)-sdvig\n",
    "    #print(buf2[id_sdiga:])\n",
    "    #print(buf2)\n",
    "    #print(buf2[0:4])\n",
    "    new_sdig=buf2[id_sdiga:]+buf2[0:id_sdiga]\n",
    "    return new_sdig"
   ]
  },
  {
   "cell_type": "code",
   "execution_count": null,
   "metadata": {},
   "outputs": [],
   "source": []
  },
  {
   "cell_type": "code",
   "execution_count": 350,
   "metadata": {},
   "outputs": [
    {
     "name": "stdout",
     "output_type": "stream",
     "text": [
      "8\n"
     ]
    },
    {
     "data": {
      "text/plain": [
       "'9999999912345768'"
      ]
     },
     "execution_count": 350,
     "metadata": {},
     "output_type": "execute_result"
    }
   ],
   "source": [
    "sdigbyte(\"1234576899999999\")"
   ]
  },
  {
   "cell_type": "code",
   "execution_count": 351,
   "metadata": {},
   "outputs": [
    {
     "data": {
      "text/plain": [
       "'5412'"
      ]
     },
     "execution_count": 351,
     "metadata": {},
     "output_type": "execute_result"
    }
   ],
   "source": [
    "sdighex(\"1254\")"
   ]
  },
  {
   "cell_type": "code",
   "execution_count": 352,
   "metadata": {},
   "outputs": [
    {
     "data": {
      "text/plain": [
       "'abcd1254'"
      ]
     },
     "execution_count": 352,
     "metadata": {},
     "output_type": "execute_result"
    }
   ],
   "source": [
    "sdighex(\"1254abcd\",4)"
   ]
  },
  {
   "cell_type": "code",
   "execution_count": 441,
   "metadata": {},
   "outputs": [],
   "source": [
    "def count_sovpad(str_star,byte):\n",
    "    last_i=0;\n",
    "    len_str=len(str_star)\n",
    "    print(\"all:\",len_str)\n",
    "    print(\"byte:\",len_str/2)\n",
    "\n",
    "    count=0\n",
    "    for i in range(2,len_str+1,2):\n",
    "        #print(last_i,\":\",i)\n",
    "        byte_1=str_star[last_i:i]\n",
    "        byte_2=byte[last_i:i]\n",
    "        last_i=i\n",
    "        if(byte_1==byte_2):\n",
    "            count+=1\n",
    "            print(byte_1,\"==\",byte_2)\n",
    "    print(\"count: \",count)\n",
    "    rez=round(count/(len_str/2),5)\n",
    "    print(\"rez: \",rez,\"%\")\n",
    "    return rez\n",
    "    "
   ]
  },
  {
   "cell_type": "code",
   "execution_count": 442,
   "metadata": {},
   "outputs": [
    {
     "name": "stdout",
     "output_type": "stream",
     "text": [
      "all: 10\n",
      "byte: 5.0\n",
      "aa == aa\n",
      "cc == cc\n",
      "23 == 23\n",
      "count:  3\n",
      "rez:  0.6 %\n"
     ]
    },
    {
     "data": {
      "text/plain": [
       "0.6"
      ]
     },
     "execution_count": 442,
     "metadata": {},
     "output_type": "execute_result"
    }
   ],
   "source": [
    "count_sovpad(\"aa2wbbcc23\",\"aa32bccc23\")"
   ]
  },
  {
   "cell_type": "code",
   "execution_count": 443,
   "metadata": {},
   "outputs": [],
   "source": [
    "def FindKeyLenFromHex(hex_str):\n",
    "    len_str=len(hex_str)\n",
    "    print(\"len_str\",len_str/2)\n",
    "    vel_smesh=1\n",
    "    mas={}\n",
    "    start_sdvig=hex_str\n",
    "    for i in range(2,len_str,2):\n",
    "        str_smesh=sdighex(start_sdvig)\n",
    "        #print(\"hex_start: \",hex_str,\" new: \",str_smesh)\n",
    "        print(\"number_smesh\",vel_smesh)\n",
    "        procent=count_sovpad(hex_str,str_smesh)\n",
    "        if (procent>0.06):\n",
    "            print(\"val\",vel_smesh)\n",
    "            \n",
    "            mas[vel_smesh]=procent\n",
    "        vel_smesh+=1\n",
    "        start_sdvig=str_smesh\n",
    "    return next(iter(mas))\n",
    "    "
   ]
  },
  {
   "cell_type": "code",
   "execution_count": 444,
   "metadata": {},
   "outputs": [],
   "source": [
    "shifr_texst=\"38570417510300081c180b1f05181754513e450d181b095a13124518101400081703170e0357170c1405131c1405000d0213161e171316091511161e171316\""
   ]
  },
  {
   "cell_type": "code",
   "execution_count": 457,
   "metadata": {},
   "outputs": [
    {
     "name": "stdout",
     "output_type": "stream",
     "text": [
      "01011100100111100010011000110100100010100010011000010100000000000011010000010100000100100001010000001100001100000010111010010010100111100111011010101110001001000001110000000110001111001010111000001110000001001001111000100000001011000000110000011000001110000010110000101000000000100010100\n",
      "2e4f131a45130a001a0a090a061817494f3b57120e031e5707024f1016060c1c16140114\n",
      ".O\u0013\u001aE\u0013\n",
      "\u0000\u001a\n",
      "\t\n",
      "\u0006\u0018\u0017IO;W\u0012\u000e\u0003\u001e",
      "W\u0007\u0002O\u0010\u0016\u0006\f",
      "\u001c",
      "\u0016\u0014\u0001\u0014\n"
     ]
    }
   ],
   "source": [
    "test_sifr=ShifrXorStringtoHex(\"I am termonetor. I will be backsdcds\",\"gorwe\")"
   ]
  },
  {
   "cell_type": "code",
   "execution_count": 458,
   "metadata": {},
   "outputs": [
    {
     "name": "stdout",
     "output_type": "stream",
     "text": [
      "len_str 36.0\n",
      "number_smesh 1\n",
      "all: 72\n",
      "byte: 36.0\n",
      "count:  0\n",
      "rez:  0.0 %\n",
      "number_smesh 2\n",
      "all: 72\n",
      "byte: 36.0\n",
      "0a == 0a\n",
      "14 == 14\n",
      "count:  2\n",
      "rez:  0.05556 %\n",
      "number_smesh 3\n",
      "all: 72\n",
      "byte: 36.0\n",
      "13 == 13\n",
      "0a == 0a\n",
      "count:  2\n",
      "rez:  0.05556 %\n",
      "number_smesh 4\n",
      "all: 72\n",
      "byte: 36.0\n",
      "16 == 16\n",
      "count:  1\n",
      "rez:  0.02778 %\n",
      "number_smesh 5\n",
      "all: 72\n",
      "byte: 36.0\n",
      "1a == 1a\n",
      "0a == 0a\n",
      "57 == 57\n",
      "count:  3\n",
      "rez:  0.08333 %\n",
      "val 5\n",
      "number_smesh 6\n",
      "all: 72\n",
      "byte: 36.0\n",
      "count:  0\n",
      "rez:  0.0 %\n",
      "number_smesh 7\n",
      "all: 72\n",
      "byte: 36.0\n",
      "count:  0\n",
      "rez:  0.0 %\n",
      "number_smesh 8\n",
      "all: 72\n",
      "byte: 36.0\n",
      "count:  0\n",
      "rez:  0.0 %\n",
      "number_smesh 9\n",
      "all: 72\n",
      "byte: 36.0\n",
      "count:  0\n",
      "rez:  0.0 %\n",
      "number_smesh 10\n",
      "all: 72\n",
      "byte: 36.0\n",
      "4f == 4f\n",
      "count:  1\n",
      "rez:  0.02778 %\n",
      "number_smesh 11\n",
      "all: 72\n",
      "byte: 36.0\n",
      "4f == 4f\n",
      "count:  1\n",
      "rez:  0.02778 %\n",
      "number_smesh 12\n",
      "all: 72\n",
      "byte: 36.0\n",
      "count:  0\n",
      "rez:  0.0 %\n",
      "number_smesh 13\n",
      "all: 72\n",
      "byte: 36.0\n",
      "count:  0\n",
      "rez:  0.0 %\n",
      "number_smesh 14\n",
      "all: 72\n",
      "byte: 36.0\n",
      "count:  0\n",
      "rez:  0.0 %\n",
      "number_smesh 15\n",
      "all: 72\n",
      "byte: 36.0\n",
      "4f == 4f\n",
      "count:  1\n",
      "rez:  0.02778 %\n",
      "number_smesh 16\n",
      "all: 72\n",
      "byte: 36.0\n",
      "count:  0\n",
      "rez:  0.0 %\n",
      "number_smesh 17\n",
      "all: 72\n",
      "byte: 36.0\n",
      "06 == 06\n",
      "count:  1\n",
      "rez:  0.02778 %\n",
      "number_smesh 18\n",
      "all: 72\n",
      "byte: 36.0\n",
      "count:  0\n",
      "rez:  0.0 %\n",
      "number_smesh 19\n",
      "all: 72\n",
      "byte: 36.0\n",
      "06 == 06\n",
      "count:  1\n",
      "rez:  0.02778 %\n",
      "number_smesh 20\n",
      "all: 72\n",
      "byte: 36.0\n",
      "count:  0\n",
      "rez:  0.0 %\n",
      "number_smesh 21\n",
      "all: 72\n",
      "byte: 36.0\n",
      "4f == 4f\n",
      "count:  1\n",
      "rez:  0.02778 %\n",
      "number_smesh 22\n",
      "all: 72\n",
      "byte: 36.0\n",
      "count:  0\n",
      "rez:  0.0 %\n",
      "number_smesh 23\n",
      "all: 72\n",
      "byte: 36.0\n",
      "count:  0\n",
      "rez:  0.0 %\n",
      "number_smesh 24\n",
      "all: 72\n",
      "byte: 36.0\n",
      "count:  0\n",
      "rez:  0.0 %\n",
      "number_smesh 25\n",
      "all: 72\n",
      "byte: 36.0\n",
      "4f == 4f\n",
      "count:  1\n",
      "rez:  0.02778 %\n",
      "number_smesh 26\n",
      "all: 72\n",
      "byte: 36.0\n",
      "4f == 4f\n",
      "count:  1\n",
      "rez:  0.02778 %\n",
      "number_smesh 27\n",
      "all: 72\n",
      "byte: 36.0\n",
      "count:  0\n",
      "rez:  0.0 %\n",
      "number_smesh 28\n",
      "all: 72\n",
      "byte: 36.0\n",
      "count:  0\n",
      "rez:  0.0 %\n",
      "number_smesh 29\n",
      "all: 72\n",
      "byte: 36.0\n",
      "count:  0\n",
      "rez:  0.0 %\n",
      "number_smesh 30\n",
      "all: 72\n",
      "byte: 36.0\n",
      "count:  0\n",
      "rez:  0.0 %\n",
      "number_smesh 31\n",
      "all: 72\n",
      "byte: 36.0\n",
      "1a == 1a\n",
      "0a == 0a\n",
      "57 == 57\n",
      "count:  3\n",
      "rez:  0.08333 %\n",
      "val 31\n",
      "number_smesh 32\n",
      "all: 72\n",
      "byte: 36.0\n",
      "16 == 16\n",
      "count:  1\n",
      "rez:  0.02778 %\n",
      "number_smesh 33\n",
      "all: 72\n",
      "byte: 36.0\n",
      "13 == 13\n",
      "0a == 0a\n",
      "count:  2\n",
      "rez:  0.05556 %\n",
      "number_smesh 34\n",
      "all: 72\n",
      "byte: 36.0\n",
      "0a == 0a\n",
      "14 == 14\n",
      "count:  2\n",
      "rez:  0.05556 %\n",
      "number_smesh 35\n",
      "all: 72\n",
      "byte: 36.0\n",
      "count:  0\n",
      "rez:  0.0 %\n"
     ]
    }
   ],
   "source": [
    "import operator\n",
    "rez=FindKeyLenFromHex(test_sifr)"
   ]
  },
  {
   "cell_type": "code",
   "execution_count": 459,
   "metadata": {},
   "outputs": [
    {
     "data": {
      "text/plain": [
       "5"
      ]
     },
     "execution_count": 459,
     "metadata": {},
     "output_type": "execute_result"
    }
   ],
   "source": [
    "rez"
   ]
  },
  {
   "cell_type": "code",
   "execution_count": 460,
   "metadata": {},
   "outputs": [
    {
     "name": "stdout",
     "output_type": "stream",
     "text": [
      "1110000101101100010010000011100110101101011100000110010001101001011111000110010000001100001010000111000001001000011110010000110100100100100011010000000101101101000001001110000100100101000101000010010000000101010001010001110001000100000100010000110000110000000000000100100000110100001000\n",
      "385b120e6b5c191a5f19030a1c121e434923405b41384945090151471104430c00120d08\n",
      "8[\u0012\u000ek\\\u0019\u001a_\u0019\u0003\n",
      "\u001c",
      "\u0012\u001e",
      "CI#@[A8IE\t\u0001QG\u0011\u0004C\f",
      "\u0000\u0012\r",
      "\b\n"
     ]
    }
   ],
   "source": [
    "smesh_hex=sdighex(test_sifr,4*2)\n",
    "test_sifr_new=XorHex(test_sifr,smesh_hex)\n"
   ]
  },
  {
   "cell_type": "code",
   "execution_count": 461,
   "metadata": {},
   "outputs": [
    {
     "data": {
      "text/plain": [
       "'385b120e6b5c191a5f19030a1c121e434923405b41384945090151471104430c00120d08'"
      ]
     },
     "execution_count": 461,
     "metadata": {},
     "output_type": "execute_result"
    }
   ],
   "source": [
    "test_sifr_new"
   ]
  },
  {
   "cell_type": "code",
   "execution_count": 462,
   "metadata": {},
   "outputs": [
    {
     "name": "stdout",
     "output_type": "stream",
     "text": [
      "0101100001010000000001000101000010111001001111000100110001101001000101000100110000101000000000000110100000101000001001000010100000011000011000000101110100100101001111001110110101011100010010000011100000001100011110010101110000011100000010010011110001000000010110000001100000110000011100\n",
      "161401142e4f131a45130a001a0a090a061817494f3b57120e031e5707024f1016060c1c\n",
      "\u0016\u0014\u0001\u0014.O\u0013\u001aE\u0013\n",
      "\u0000\u001a\n",
      "\t\n",
      "\u0006\u0018\u0017IO;W\u0012\u000e\u0003\u001e",
      "W\u0007\u0002O\u0010\u0016\u0006\f",
      "\u001c",
      "\n"
     ]
    }
   ],
   "source": [
    "test_sifr_all=XorHex(test_sifr,test_sifr_new)"
   ]
  },
  {
   "cell_type": "code",
   "execution_count": null,
   "metadata": {},
   "outputs": [],
   "source": []
  },
  {
   "cell_type": "code",
   "execution_count": 463,
   "metadata": {},
   "outputs": [],
   "source": [
    "smesh_hex=sdighex(test_sifr_all,4*2)"
   ]
  },
  {
   "cell_type": "code",
   "execution_count": 464,
   "metadata": {},
   "outputs": [
    {
     "data": {
      "text/plain": [
       "'16060c1c161401142e4f131a45130a001a0a090a061817494f3b57120e031e5707024f10'"
      ]
     },
     "execution_count": 464,
     "metadata": {},
     "output_type": "execute_result"
    }
   ],
   "source": [
    "smesh_hex"
   ]
  },
  {
   "cell_type": "code",
   "execution_count": null,
   "metadata": {},
   "outputs": [],
   "source": []
  }
 ],
 "metadata": {
  "kernelspec": {
   "display_name": "Python 3",
   "language": "python",
   "name": "python3"
  },
  "language_info": {
   "codemirror_mode": {
    "name": "ipython",
    "version": 3
   },
   "file_extension": ".py",
   "mimetype": "text/x-python",
   "name": "python",
   "nbconvert_exporter": "python",
   "pygments_lexer": "ipython3",
   "version": "3.7.3"
  }
 },
 "nbformat": 4,
 "nbformat_minor": 2
}
