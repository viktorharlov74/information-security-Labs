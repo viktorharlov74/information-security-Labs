{
 "cells": [
  {
   "cell_type": "markdown",
   "metadata": {},
   "source": [
    "Реализуйте шифрование XOR'ом с повторяющимся ключом.\n",
    "\n",
    "\n",
    "Пример:\n",
    "\n",
    "Входные данные: ссылка\n",
    "\n",
    "Ключ: Shannon\n",
    "\n",
    "Результат: 00000000000000730b0e001a1d07311d150b0a4f1a3c4815060b4f083a0d0d0a4e0008730b13171e1b0f3d090d171d061d730e0e1c4e010f27010e000f034e370d070b001c0b730c141c070109733f0e1c020b4e0409134e272642736208000d031b37010f094e07072048030f1d060d731f0e1c054f013d4802010a0a0c210d000507010973090f0a4e1c0b301d130b4e1b0b3f0d020103021b3d01020f1a06013d1b4f"
   ]
  },
  {
   "cell_type": "markdown",
   "metadata": {},
   "source": [
    "# Решением задачи является функция ShifrXorWithRepeatKey которая принимает два параметра (имя файла с текстом и второй строковый параметр это ключ"
   ]
  },
  {
   "cell_type": "code",
   "execution_count": 2,
   "metadata": {},
   "outputs": [],
   "source": [
    "import binascii"
   ]
  },
  {
   "cell_type": "code",
   "execution_count": 3,
   "metadata": {},
   "outputs": [],
   "source": [
    "import string"
   ]
  },
  {
   "cell_type": "code",
   "execution_count": 4,
   "metadata": {},
   "outputs": [],
   "source": [
    "#Функция для конвертации из одной системы счисления в другую\n",
    "def convert_base(num, to_base=10, from_base=10):\n",
    "    # first convert to decimal number\n",
    "    if isinstance(num, str):\n",
    "        n = int(num, from_base)\n",
    "    else:\n",
    "        n = int(num)\n",
    "    # now convert decimal to 'to_base' base\n",
    "    alphabet = \"0123456789ABCDEFGHIJKLMNOPQRSTUVWXYZ\"\n",
    "    if n < to_base:\n",
    "        return alphabet[n]\n",
    "    else:\n",
    "        return convert_base(n // to_base, to_base) + alphabet[n % to_base]"
   ]
  },
  {
   "cell_type": "code",
   "execution_count": 52,
   "metadata": {},
   "outputs": [],
   "source": [
    "#Функция для конвертации из одной системы счисления в другую\n",
    "def convert_hex_to_bin(hex_str):\n",
    "    res = bin(int(hex_str, 16)).zfill(8) \n",
    "    return res[2:]\n"
   ]
  },
  {
   "cell_type": "code",
   "execution_count": 53,
   "metadata": {},
   "outputs": [],
   "source": [
    "def XORbin(buf1,buf2):\n",
    "    final_str=\"\"\n",
    "    #print(abs(len(str(buf1))-len(str(buf2))),str(buf1))\n",
    "    for i in range(abs(len(buf1)-len(buf2))):\n",
    "        if (len(buf1)>len(buf2)):\n",
    "            buf2=\"0\"+buf2\n",
    "        if (len(buf1)<len(buf2)):\n",
    "            buf1=\"0\"+buf1\n",
    "    #print(buf1,buf2,\"<-aftermoderation\")\n",
    "    for i in range(len(buf1)):\n",
    "        bit=int(buf1[i])^int(buf2[i])\n",
    "        final_str=final_str+str(bit)\n",
    "    #print(buf1,buf2,final_str,\"<-xor\")\n",
    "    return final_str"
   ]
  },
  {
   "cell_type": "code",
   "execution_count": 54,
   "metadata": {},
   "outputs": [],
   "source": [
    "#xor для двух 16ричных строк одинаковой длины\n",
    "def XORbuffers(buf1,buf2):\n",
    "    final_str=\"\"\n",
    "    buf1_2=convert_base(str(buf1), from_base=16,to_base=2)\n",
    "    buf2_2=convert_base(str(buf2), from_base=16,to_base=2)\n",
    "    final_str=XORbin(buf1_2,buf2_2)\n",
    "    final_str_convert=convert_base(str(final_str), from_base=2,to_base=16)\n",
    "    final_str_convert=final_str_convert.zfill(len(buf1))\n",
    "    return final_str_convert"
   ]
  },
  {
   "cell_type": "code",
   "execution_count": 55,
   "metadata": {},
   "outputs": [],
   "source": [
    "#Функция для конвертация символа в 16ричное значение\n",
    "def ConvertCharsStrToHex(str_val):\n",
    "    str_val= bytes(str_val, 'latin-1')\n",
    "    str_val=binascii.hexlify(str_val).decode('latin-1')\n",
    "    #print(str_val,\"str_val\")\n",
    "    return str_val"
   ]
  },
  {
   "cell_type": "code",
   "execution_count": 56,
   "metadata": {},
   "outputs": [],
   "source": [
    "#xor для двух 16ричных строк одинаковой длины\n",
    "def XORbuffer(buf1,buf2):\n",
    "    final_str=\"\"\n",
    "    buf1_2=convert_hex_to_bin(buf1)\n",
    "    buf2_2=convert_hex_to_bin(buf2)\n",
    "    for i in range(len(buf1_2)):\n",
    "        bit=int(buf1_2[i])^int(buf2_2[i])\n",
    "        final_str=final_str+str(bit)\n",
    "    final_str_convert=convert_base(str(final_str), from_base=2,to_base=16)\n",
    "    final_str_convert=final_str_convert.zfill(len(buf1))\n",
    "    return final_str_convert"
   ]
  },
  {
   "cell_type": "code",
   "execution_count": 60,
   "metadata": {},
   "outputs": [],
   "source": [
    "# Шифрует текст из файла с повторяющимся ключом и возвращает зашифрованную строку в hex\n",
    "def ShifrXorWithRepeatKey(file_name,key_str):\n",
    "    start_str=\"\";\n",
    "    f = open(file_name)\n",
    "    for line in f:\n",
    "        start_str+=line\n",
    "\n",
    "    start_str=start_str.strip(\"\\n\")\n",
    "    keystart=key_str\n",
    "    key_str_final=key_str\n",
    "    k=0\n",
    "    final_k=len(keystart)-1\n",
    "    while (len(key_str_final)!=len(start_str)):\n",
    "        if (k>final_k):\n",
    "            k=0\n",
    "        key_str_final=key_str_final+keystart[k]\n",
    "        k+=1\n",
    "    Hex_buf=ConvertCharsStrToHex(start_str)\n",
    "    Hex_buf_key=ConvertCharsStrToHex(key_str_final)\n",
    "    res=XORbuffer(Hex_buf,Hex_buf_key)\n",
    "    res=res.zfill(len(Hex_buf))\n",
    "    return res.lower()"
   ]
  },
  {
   "cell_type": "code",
   "execution_count": 61,
   "metadata": {},
   "outputs": [
    {
     "data": {
      "text/plain": [
       "'00000000000000730b0e001a1d07311d150b0a4f1a3c4815060b4f083a0d0d0a4e0008730b13171e1b0f3d090d171d061d730e0e1c4e010f27010e000f034e370d070b001c0b730c141c070109733f0e1c020b4e0409134e272642736208000d031b37010f094e07072048030f1d060d731f0e1c054f013d4802010a0a0c210d000507010973090f0a4e1c0b301d130b4e1b0b3f0d020103021b3d01020f1a06013d1b4f'"
      ]
     },
     "execution_count": 61,
     "metadata": {},
     "output_type": "execute_result"
    }
   ],
   "source": [
    "ShifrXorWithRepeatKey(\"task15.input\",\"Shannon\")"
   ]
  },
  {
   "cell_type": "code",
   "execution_count": 64,
   "metadata": {},
   "outputs": [
    {
     "name": "stdout",
     "output_type": "stream",
     "text": [
      "task15.input :  321b053d060e004e0c010b0716081111270d054e1a004e111b0141150d3604054e01094e06011d1107053d090d171d061d45150b13530a321c0801000e0245170107160a200d410a1b1d070b1444361c163f0c41390f1d4e2c3a4841790d3d0b0d1b0a060002530c080044310912070d4f190a010f411c0a730b0e0a0b0d1c00120f081d0373090f0a4e1c0b0606160453103604040d010203101d0d0212103a070f1d40 \n",
      "\n",
      "task152.input :  321b053d060e004e0c010b0716081111270d054e1a004e111b0141150d3604054e01094e06011d1107053d090d171d061d45150b13530a321c0801000e0245170107160a200d410a1b1d070b1444361c163f0c41390f1d4e2c3a4841790d3d0b0d1b0a060002530c080044310912070d4f190a010f411c0a730b0e0a0b0d1c00120f081d0373090f0a4e1c0b0606160453103604040d010203101d0d0212103a070f1d40653a0d1a17411a17730941180b1d17451a0a151616361b150700084e1606060b16072746412c1b1b4e0b1c104105012111411d07021e0916 \n",
      "\n",
      "task153.input :  351b0173210f0a0b1f0b0b17010f0744110d151a0701094532000b06003a0b001a07000045200113050d300d4146272d2f365a440800443206412f021b0b171d05151a12364825071d1f1b1116443316173c04141a070000455b2525214d200d1318070c0b49536e0003142107170b0a4f0c1c531009164414090c0c0206000253270e1e093a1b120701014e111c4411010b2501050b4e0600031c160c160073090f0a4e0603151216151a053f48000a041a0a0c1005151a0b3d1b4101004f0a0c0014140701204815060f1b4e04010d121644310d15190b0a004579080810013d1b040a4e080f081108081d037307110b1c0e1a0a011741120a374815060b061c45101112070b3e0d131d420e0811161641070c3648021b1d1b01081616411b0520480201031f020007010553103b0d41011e0a1c04070b135417730716004e06001116160f1208730c081d1e1a1a005314131c07360c141c0b1c4e041d0041040c361a044e0f4f0a0012000d1c073848121a07030245161c08001020623506071c4e0c0044005312361a184e07011a00010112070d3d0f411d1b0d040010104f5326261c4100011b4e1316161853173a0511020b \n",
      "\n"
     ]
    }
   ],
   "source": [
    "file_names=['task15.input','task152.input','task153.input']\n",
    "for file_name in file_names:    \n",
    "    print(file_name,\": \",ShifrXorWithRepeatKey(file_name,\"asdShannonesd\"),\"\\n\")"
   ]
  },
  {
   "cell_type": "code",
   "execution_count": null,
   "metadata": {},
   "outputs": [],
   "source": []
  }
 ],
 "metadata": {
  "kernelspec": {
   "display_name": "Python 3",
   "language": "python",
   "name": "python3"
  },
  "language_info": {
   "codemirror_mode": {
    "name": "ipython",
    "version": 3
   },
   "file_extension": ".py",
   "mimetype": "text/x-python",
   "name": "python",
   "nbconvert_exporter": "python",
   "pygments_lexer": "ipython3",
   "version": "3.7.3"
  }
 },
 "nbformat": 4,
 "nbformat_minor": 2
}
