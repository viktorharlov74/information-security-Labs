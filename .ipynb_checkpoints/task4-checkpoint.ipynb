{
 "cells": [
  {
   "cell_type": "markdown",
   "metadata": {},
   "source": [
    "Задание 4.\n",
    "В качестве входных данных дается файл со строками в hex. Одна из этих строк зашифрована с помощью XOR на одно-символьном ключе. Найдите и расшифруйте эту строку."
   ]
  },
  {
   "cell_type": "markdown",
   "metadata": {},
   "source": [
    "# Решением задачи является функция FindShiftStrFromFile. Она на вход принимает имя файла и возвращает первую зашифрованную строку или -1 если такой строки нету"
   ]
  },
  {
   "cell_type": "code",
   "execution_count": 42,
   "metadata": {},
   "outputs": [],
   "source": [
    "import binascii"
   ]
  },
  {
   "cell_type": "code",
   "execution_count": 43,
   "metadata": {},
   "outputs": [],
   "source": [
    "import string"
   ]
  },
  {
   "cell_type": "code",
   "execution_count": 158,
   "metadata": {},
   "outputs": [],
   "source": [
    "#Функция для конвертации из одной системы счисления в другую\n",
    "def convert_base(num, to_base=10, from_base=10):\n",
    "    # first convert to decimal number\n",
    "    if isinstance(num, str):\n",
    "        n = int(num, from_base)\n",
    "    else:\n",
    "        n = int(num)\n",
    "    # now convert decimal to 'to_base' base\n",
    "    alphabet = \"0123456789ABCDEFGHIJKLMNOPQRSTUVWXYZ\"\n",
    "    if n < to_base:\n",
    "        return alphabet[n]\n",
    "    else:\n",
    "        return convert_base(n // to_base, to_base) + alphabet[n % to_base]"
   ]
  },
  {
   "cell_type": "code",
   "execution_count": 159,
   "metadata": {},
   "outputs": [],
   "source": [
    "#xor для двух 16ричных строк одинаковой длины\n",
    "def XORbuffer(buf1,buf2):\n",
    "    final_str=\"\"\n",
    "    buf1_2=convert_base(str(buf1), from_base=16,to_base=2)\n",
    "    buf2_2=convert_base(str(buf2), from_base=16,to_base=2)\n",
    "    for i in range(len(buf1_2)):\n",
    "        bit=int(buf1_2[i])^int(buf2_2[i])\n",
    "        final_str=final_str+str(bit)\n",
    "    final_str_convert=convert_base(str(final_str), from_base=2,to_base=16)\n",
    "    final_str_convert=final_str_convert.zfill(len(buf1))\n",
    "    return final_str_convert"
   ]
  },
  {
   "cell_type": "code",
   "execution_count": 160,
   "metadata": {},
   "outputs": [],
   "source": [
    "#Функция делает XOR для двух бинарных строк\n",
    "def XORbin(buf1,buf2):\n",
    "    final_str=\"\"\n",
    "    #print(abs(len(str(buf1))-len(str(buf2))),str(buf1))\n",
    "    for i in range(abs(len(buf1)-len(buf2))):\n",
    "        if (len(buf1)>len(buf2)):\n",
    "            buf2=\"0\"+buf2\n",
    "        if (len(buf1)<len(buf2)):\n",
    "            buf1=\"0\"+buf1\n",
    "    #print(buf1,buf2,\"<-aftermoderation\")\n",
    "    for i in range(len(buf1)):\n",
    "        bit=int(buf1[i])^int(buf2[i])\n",
    "        final_str=final_str+str(bit)\n",
    "    #print(buf1,buf2,final_str,\"<-xor\")\n",
    "    return final_str"
   ]
  },
  {
   "cell_type": "code",
   "execution_count": 280,
   "metadata": {},
   "outputs": [],
   "source": [
    "#Функция для конвертация символа в 16ричное значение\n",
    "def ConvertCharsStrToHex(str_val):\n",
    "    str_val= bytes(str_val, 'latin-1')\n",
    "    str_val=binascii.hexlify(str_val).decode('latin-1')\n",
    "    #print(str_val,\"str_val\")\n",
    "    return str_val"
   ]
  },
  {
   "cell_type": "code",
   "execution_count": 281,
   "metadata": {},
   "outputs": [],
   "source": [
    "def ConvertShifrStrFromHex(str_hex):\n",
    "    text=bytes.fromhex(str_hex).decode(\"latin1\")\n",
    "    #print(text,\"text ConvertShifrStrFromHex\")\n",
    "    max_sim=max([x for x in text if x in string.ascii_letters], key=text.count)\n",
    "    max_sim= ConvertCharsStrToHex(max_sim)\n",
    "    prob=ConvertCharsStrToHex(\" \")\n",
    "    max_sim_bin=convert_base(str(max_sim), from_base=16,to_base=2)\n",
    "    prob_bin=convert_base(str(prob), from_base=16,to_base=2)\n",
    "    key_str_bin=XORbin(prob_bin,max_sim_bin)\n",
    "    #key_str_bin=convert_base(str(key_str_hex), from_base=16,to_base=2)\n",
    "    final_str_bytes=\"\"\n",
    "    for i in range(len(text)):\n",
    "        #print(text[i])\n",
    "        aint=convert_base(str(ConvertCharsStrToHex(text[i])), from_base=16,to_base=2)\n",
    "        #print(aint,key_str_hex)\n",
    "        xor_sim=XORbin(key_str_bin,aint)\n",
    "        #print(xor_sim)\n",
    "        final_str_convert=convert_base(xor_sim, from_base=2,to_base=16)\n",
    "        if (len(final_str_convert)%2!=0):\n",
    "            final_str_convert=\"0\"+final_str_convert\n",
    "        final_str_bytes=final_str_bytes+bytes.fromhex(final_str_convert).decode(\"latin1\")\n",
    "    return final_str_bytes"
   ]
  },
  {
   "cell_type": "code",
   "execution_count": 282,
   "metadata": {},
   "outputs": [],
   "source": [
    "def ConvertShifrStrFromHexKey(str_hex):\n",
    "    #print(str_hex)\n",
    "    text=bytes.fromhex(str_hex).decode(\"latin1\")\n",
    "    \n",
    "    max_sim=max([x for x in text if x in string.ascii_letters], key=text.count)\n",
    "    max_sim= ConvertCharsStrToHex(max_sim)\n",
    "    #print(max_sim)\n",
    "    prob=FindKeySimbFromHex(str_hex)\n",
    "    max_sim_bin=convert_base(str(max_sim), from_base=16,to_base=2)\n",
    "    prob_bin=convert_base(str(prob), from_base=16,to_base=2)\n",
    "    key_str_bin=XORbin(prob_bin,max_sim_bin)\n",
    "    #key_str_bin=convert_base(str(key_str_hex), from_base=16,to_base=2)\n",
    "    final_str_bytes=\"\"\n",
    "    for i in range(len(text)):\n",
    "        #print(text[i])\n",
    "        aint=convert_base(str(ConvertCharsStrToHex(text[i])), from_base=16,to_base=2)\n",
    "        #print(aint,key_str_hex)\n",
    "        xor_sim=XORbin(key_str_bin,aint)\n",
    "        #print(xor_sim)\n",
    "        final_str_convert=convert_base(xor_sim, from_base=2,to_base=16)\n",
    "        if (len(final_str_convert)%2!=0):\n",
    "            final_str_convert=\"0\"+final_str_convert\n",
    "        final_str_bytes=final_str_bytes+bytes.fromhex(final_str_convert).decode(\"latin1\")\n",
    "    return final_str_bytes"
   ]
  },
  {
   "cell_type": "code",
   "execution_count": 369,
   "metadata": {},
   "outputs": [],
   "source": [
    "#Функция для проверки зашифрованной строки\n",
    "def CheckDedhifrStr(str_deshifr):\n",
    "    min_dec=int(convert_base('20', from_base=16,to_base=10))\n",
    "    kostil=int(convert_base('0A', from_base=16,to_base=10))\n",
    "\n",
    "    \n",
    "    max_dec=int(convert_base('A0', from_base=16,to_base=10))\n",
    "    #print(min_dec,max_dec,kostil,\"*******\")\n",
    "    #print(max_dec,\"max\")\n",
    "    for i in range(len(str_deshifr)):\n",
    "        #print(str_deshifr[i],\"str_deshifr[i]\")\n",
    "        hex_simb=ConvertCharsStrToHex(str_deshifr[i])\n",
    "        dec_simb=int(convert_base(hex_simb, from_base=16,to_base=10))\n",
    "        #print(dec_simb,\"dec_simb\")\n",
    "        if (((dec_simb>=32)and(dec_simb<=127))or(kostil==dec_simb)):\n",
    "            #print(dec_simb)\n",
    "            #print(str_deshifr[i])\n",
    "            continue\n",
    "        else:\n",
    "            return -1\n",
    "            \n",
    "    return 0"
   ]
  },
  {
   "cell_type": "code",
   "execution_count": 370,
   "metadata": {},
   "outputs": [],
   "source": [
    "#Главная функция для поиска зашифрованной строки на вход принемает имя файла и возвращает первую защифрованную строку или -1 если такой строки нету\n",
    "def FindShiftStrFromFile(file_name):\n",
    "    f = open(file_name)\n",
    "    for line in f:\n",
    "        line=line.rstrip()\n",
    "        deshifr_str=ConvertShifrStrFromHexKey(line)\n",
    "        if (CheckDedhifrStr(deshifr_str)!=-1):\n",
    "            f.close()\n",
    "            return deshifr_str\n",
    "        else:\n",
    "            continue\n"
   ]
  },
  {
   "cell_type": "code",
   "execution_count": 371,
   "metadata": {},
   "outputs": [],
   "source": [
    "def FindKeySimbFromHex(str_hex):\n",
    "    text=bytes.fromhex(str_hex).decode(\"latin1\")\n",
    "\n",
    "    max_sim=max([x for x in text if x in string.ascii_letters], key=text.count)\n",
    "    max_sim= ConvertCharsStrToHex(max_sim)\n",
    "    prob=ConvertCharsStrToHex(\" \")\n",
    "    max_sim_bin=convert_base(str(max_sim), from_base=16,to_base=2)\n",
    "    prob_bin=convert_base(str(prob), from_base=16,to_base=2)\n",
    "    key_str_bin=XORbin(prob_bin,max_sim_bin)\n",
    "    #key_str_bin=convert_base(str(key_str_hex), from_base=16,to_base=2)\n",
    "    final_str_bytes=\"\"\n",
    "    allsimb={}\n",
    "    for i in range(len(text)):\n",
    "        #print(text[i])\n",
    "        aint=convert_base(str(ConvertCharsStrToHex(text[i])), from_base=16,to_base=2)\n",
    "        #print(aint,key_str_hex)\n",
    "        xor_sim=XORbin(key_str_bin,aint)\n",
    "        #print(xor_sim)\n",
    "        final_str_convert=convert_base(xor_sim, from_base=2,to_base=16)\n",
    "        #print(final_str_convert)\n",
    "        if (len(final_str_convert)%2!=0):\n",
    "            final_str_convert=\"0\"+final_str_convert\n",
    "        if final_str_convert in allsimb:\n",
    "            allsimb[final_str_convert]+=1\n",
    "        else:\n",
    "            allsimb[final_str_convert]=1\n",
    "    #print(allsimb)\n",
    "    key_simb=sorted(allsimb.items(), key=lambda x: x[1], reverse=True)\n",
    "    #print(key_simb[0])\n",
    "    return key_simb[0][0]"
   ]
  },
  {
   "cell_type": "code",
   "execution_count": 375,
   "metadata": {},
   "outputs": [
    {
     "name": "stdout",
     "output_type": "stream",
     "text": [
      "task14.input :  Kakim umnym ja sebja chuvstvuu\n",
      "task140.input :  Kakim umnym ja sebja chuvstvuu\n",
      "task141.input :  Now that the party is jumping\n",
      "\n",
      "task142.input :  Kakim umnym ja sebja chuvstvuu\n"
     ]
    }
   ],
   "source": [
    "file_names=['task14.input','task140.input','task141.input','task142.input']\n",
    "for file_name in file_names:\n",
    "    \n",
    "    print(file_name,\": \",FindShiftStrFromFile(file_name))"
   ]
  },
  {
   "cell_type": "code",
   "execution_count": null,
   "metadata": {},
   "outputs": [],
   "source": []
  },
  {
   "cell_type": "code",
   "execution_count": 373,
   "metadata": {},
   "outputs": [],
   "source": [
    "min_dec=int(convert_base('72', from_base=16,to_base=10))"
   ]
  },
  {
   "cell_type": "code",
   "execution_count": 374,
   "metadata": {},
   "outputs": [
    {
     "name": "stdout",
     "output_type": "stream",
     "text": [
      "Now that the party is jumping\n",
      "\n"
     ]
    }
   ],
   "source": [
    "file_names=['task141.input']\n",
    "for file_name in file_names:    \n",
    "    print(FindShiftStrFromFile(file_name))"
   ]
  },
  {
   "cell_type": "code",
   "execution_count": 345,
   "metadata": {},
   "outputs": [
    {
     "ename": "AttributeError",
     "evalue": "'bytes' object has no attribute 'encode'",
     "output_type": "error",
     "traceback": [
      "\u001b[1;31m---------------------------------------------------------------------------\u001b[0m",
      "\u001b[1;31mAttributeError\u001b[0m                            Traceback (most recent call last)",
      "\u001b[1;32m<ipython-input-345-8eba576f438c>\u001b[0m in \u001b[0;36m<module>\u001b[1;34m\u001b[0m\n\u001b[1;32m----> 1\u001b[1;33m \u001b[0mbytes\u001b[0m\u001b[1;33m.\u001b[0m\u001b[0mfromhex\u001b[0m\u001b[1;33m(\u001b[0m\u001b[1;34m\"20\"\u001b[0m\u001b[1;33m)\u001b[0m\u001b[1;33m.\u001b[0m\u001b[0mencode\u001b[0m\u001b[1;33m(\u001b[0m\u001b[1;34m'utf8'\u001b[0m\u001b[1;33m)\u001b[0m\u001b[1;33m\u001b[0m\u001b[1;33m\u001b[0m\u001b[0m\n\u001b[0m",
      "\u001b[1;31mAttributeError\u001b[0m: 'bytes' object has no attribute 'encode'"
     ]
    }
   ],
   "source": [
    "bytes.fromhex(\"20\").encode('utf8')"
   ]
  },
  {
   "cell_type": "code",
   "execution_count": 346,
   "metadata": {},
   "outputs": [
    {
     "data": {
      "text/plain": [
       "b'AC'"
      ]
     },
     "execution_count": 346,
     "metadata": {},
     "output_type": "execute_result"
    }
   ],
   "source": [
    "\"AC\".encode('ascii')"
   ]
  },
  {
   "cell_type": "code",
   "execution_count": null,
   "metadata": {},
   "outputs": [],
   "source": []
  }
 ],
 "metadata": {
  "kernelspec": {
   "display_name": "Python 3",
   "language": "python",
   "name": "python3"
  },
  "language_info": {
   "codemirror_mode": {
    "name": "ipython",
    "version": 3
   },
   "file_extension": ".py",
   "mimetype": "text/x-python",
   "name": "python",
   "nbconvert_exporter": "python",
   "pygments_lexer": "ipython3",
   "version": "3.7.3"
  }
 },
 "nbformat": 4,
 "nbformat_minor": 2
}
