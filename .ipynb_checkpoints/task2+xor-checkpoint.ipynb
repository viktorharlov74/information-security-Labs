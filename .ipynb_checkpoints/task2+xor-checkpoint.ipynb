{
 "cells": [
  {
   "cell_type": "markdown",
   "metadata": {},
   "source": [
    "Напишите функцию, которая принимает в качестве параметров два буфера одинаковой длины и производит операцию XOR над ними.\n",
    "\n",
    "Пример:\n",
    "\n",
    "Входные данные:\n",
    "\n",
    "506561636520416c6c204f7665722054686520576f726c64\n",
    "\n",
    "XOR\n",
    "\n",
    "4949544353551c0111001f010100061a021f010100061a02\n",
    "\n",
    "=\n",
    "\n",
    "192C352036755D6D7D2050776472264E6A7A21566F747666"
   ]
  },
  {
   "cell_type": "markdown",
   "metadata": {},
   "source": [
    "# Решением задачи является функция XORbuffer она принимает в себя два 16ричных числа одинаковой длины"
   ]
  },
  {
   "cell_type": "code",
   "execution_count": 2,
   "metadata": {},
   "outputs": [],
   "source": [
    "def convert_base(num, to_base=10, from_base=10):\n",
    "    # first convert to decimal number\n",
    "    if isinstance(num, str):\n",
    "        n = int(num, from_base)\n",
    "    else:\n",
    "        n = int(num)\n",
    "    # now convert decimal to 'to_base' base\n",
    "    alphabet = \"0123456789ABCDEFGHIJKLMNOPQRSTUVWXYZ\"\n",
    "    if n < to_base:\n",
    "        return alphabet[n]\n",
    "    else:\n",
    "        return convert_base(n // to_base, to_base) + alphabet[n % to_base]"
   ]
  },
  {
   "cell_type": "code",
   "execution_count": 24,
   "metadata": {},
   "outputs": [],
   "source": [
    "def XORbin(buf1,buf2):\n",
    "    final_str=\"\"\n",
    "    #print(abs(len(str(buf1))-len(str(buf2))),str(buf1))\n",
    "    for i in range(abs(len(buf1)-len(buf2))):\n",
    "        if (len(buf1)>len(buf2)):\n",
    "            buf2=\"0\"+buf2\n",
    "        if (len(buf1)<len(buf2)):\n",
    "            buf1=\"0\"+buf1\n",
    "    #print(buf1,buf2,\"<-aftermoderation\")\n",
    "    for i in range(len(buf1)):\n",
    "        bit=int(buf1[i])^int(buf2[i])\n",
    "        final_str=final_str+str(bit)\n",
    "    #print(buf1,buf2,final_str,\"<-xor\")\n",
    "    return final_str"
   ]
  },
  {
   "cell_type": "code",
   "execution_count": 25,
   "metadata": {},
   "outputs": [],
   "source": [
    "def XORbuffer(buf1,buf2):\n",
    "    final_str=\"\"\n",
    "    buf1_2=convert_base(str(buf1), from_base=16,to_base=2)\n",
    "    buf2_2=convert_base(str(buf2), from_base=16,to_base=2)\n",
    "    for i in range(len(buf1_2)):\n",
    "        bit=int(buf1_2[i])^int(buf2_2[i])\n",
    "        final_str=final_str+str(bit)\n",
    "    final_str_convert=convert_base(str(final_str), from_base=2,to_base=16)\n",
    "    final_str_convert=final_str_convert.zfill(len(buf1))\n",
    "    return final_str_convert"
   ]
  },
  {
   "cell_type": "code",
   "execution_count": 26,
   "metadata": {},
   "outputs": [],
   "source": [
    "#xor для двух 16ричных строк одинаковой длины\n",
    "def XORbuffers(buf1,buf2):\n",
    "    final_str=\"\"\n",
    "    buf1_2=convert_base(str(buf1), from_base=16,to_base=2)\n",
    "    buf2_2=convert_base(str(buf2), from_base=16,to_base=2)\n",
    "    final_str=XORbin(buf1_2,buf2_2)\n",
    "    final_str_convert=convert_base(str(final_str), from_base=2,to_base=16)\n",
    "    final_str_convert=final_str_convert.zfill(len(buf1))\n",
    "    return final_str_convert"
   ]
  },
  {
   "cell_type": "code",
   "execution_count": 27,
   "metadata": {},
   "outputs": [
    {
     "data": {
      "text/plain": [
       "'192C352036755D6D7D2050776472264E6A7A21566F747666'"
      ]
     },
     "execution_count": 27,
     "metadata": {},
     "output_type": "execute_result"
    }
   ],
   "source": [
    "XORbuffers('506561636520416c6c204f7665722054686520576f726c64',\"4949544353551c0111001f010100061a021f010100061a02\")"
   ]
  },
  {
   "cell_type": "code",
   "execution_count": 28,
   "metadata": {},
   "outputs": [
    {
     "data": {
      "text/plain": [
       "'506561636520416C6C204F7665722054686520576F726C64'"
      ]
     },
     "execution_count": 28,
     "metadata": {},
     "output_type": "execute_result"
    }
   ],
   "source": [
    "XORbuffers('192C352036755D6D7D2050776472264E6A7A21566F747666',\"4949544353551c0111001f010100061a021f010100061a02\")"
   ]
  },
  {
   "cell_type": "code",
   "execution_count": null,
   "metadata": {},
   "outputs": [],
   "source": []
  },
  {
   "cell_type": "code",
   "execution_count": 29,
   "metadata": {},
   "outputs": [
    {
     "data": {
      "text/plain": [
       "'0000'"
      ]
     },
     "execution_count": 29,
     "metadata": {},
     "output_type": "execute_result"
    }
   ],
   "source": [
    "XORbuffers('aaa1',\"aaa1\")"
   ]
  },
  {
   "cell_type": "code",
   "execution_count": 19,
   "metadata": {},
   "outputs": [
    {
     "data": {
      "text/plain": [
       "'1A4D5A4A5A4A5A00000000000000000000000000000000000000000000000000000000000000000000000000000000000000000000000000000000000000000000000000000000000000000000000000000000000000000000000000000000000000000000000000000000000000000000000000000000000000000000000000000000000000000000000000000000000000000000000000000000000000000000000000'"
      ]
     },
     "execution_count": 19,
     "metadata": {},
     "output_type": "execute_result"
    }
   ],
   "source": [
    "XORbuffers('00000000000000730b0e001a1d07311d150b0a4f1a3c4815060b4f083a0d0d0a4e0008730b13171e1b0f3d090d171d061d730e0e1c4e010f27010e000f034e370d070b001c0b730c141c070109733f0e1c020b4e0409134e272642736208000d031b37010f094e07072048030f1d060d731f0e1c054f013d4802010a0a0c210d000507010973090f0a4e1c0b301d130b4e1b0b3f0d020103021b3d01020f1a06013d1b4f',\"1a4d5a4a5a4a5a730b0e001a1d07311d150b0a4f1a3c4815060b4f083a0d0d0a4e0008730b13171e1b0f3d090d171d061d730e0e1c4e010f27010e000f034e370d070b001c0b730c141c070109733f0e1c020b4e0409134e272642736208000d031b37010f094e07072048030f1d060d731f0e1c054f013d4802010a0a0c210d000507010973090f0a4e1c0b301d130b4e1b0b3f0d020103021b3d01020f1a06013d1b4f\")"
   ]
  },
  {
   "cell_type": "code",
   "execution_count": 31,
   "metadata": {},
   "outputs": [
    {
     "data": {
      "text/plain": [
       "'491927352036755D6D7D2050776472264E6A7A21566F740E66'"
      ]
     },
     "execution_count": 31,
     "metadata": {},
     "output_type": "execute_result"
    }
   ],
   "source": [
    "XORbuffers('506561636520416c6c204f7665722054686520576f721464',\"494942544353551c0111001f010100061a021f010100061a02\")"
   ]
  },
  {
   "cell_type": "code",
   "execution_count": null,
   "metadata": {},
   "outputs": [],
   "source": []
  }
 ],
 "metadata": {
  "kernelspec": {
   "display_name": "Python 3",
   "language": "python",
   "name": "python3"
  },
  "language_info": {
   "codemirror_mode": {
    "name": "ipython",
    "version": 3
   },
   "file_extension": ".py",
   "mimetype": "text/x-python",
   "name": "python",
   "nbconvert_exporter": "python",
   "pygments_lexer": "ipython3",
   "version": "3.7.3"
  }
 },
 "nbformat": 4,
 "nbformat_minor": 2
}
