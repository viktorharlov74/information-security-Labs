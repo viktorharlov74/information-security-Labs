{
 "cells": [
  {
   "cell_type": "markdown",
   "metadata": {},
   "source": [
    "\n",
    "Задание 3.\n",
    "\n",
    "(не использовать метод полного перебора ключа)\n",
    "\n",
    "Дана строка закодированная в 16-виде. Данную строку получили путем операции XOR некоторого текста с одним символом. Расшифруйте это сообщение. \n",
    "\n",
    "Пример:\n",
    "Входные данные:\n",
    "19367831362e3d2b2c353d362c783136783336372f343d3c3f3d7839342f39212b782839212b782c303d783a3d2b2c7831362c3d2a3d2b2c\n"
   ]
  },
  {
   "cell_type": "markdown",
   "metadata": {},
   "source": [
    "# Решением задачи является функция ConvertShifrStrFromHex она принимает в качестве аргумента зашифрованную hex строку"
   ]
  },
  {
   "cell_type": "code",
   "execution_count": 2,
   "metadata": {},
   "outputs": [],
   "source": [
    "import binascii"
   ]
  },
  {
   "cell_type": "code",
   "execution_count": 3,
   "metadata": {},
   "outputs": [],
   "source": [
    "import string"
   ]
  },
  {
   "cell_type": "code",
   "execution_count": 4,
   "metadata": {},
   "outputs": [],
   "source": [
    "def convert_base(num, to_base=10, from_base=10):\n",
    "    # first convert to decimal number\n",
    "    if isinstance(num, str):\n",
    "        n = int(num, from_base)\n",
    "    else:\n",
    "        n = int(num)\n",
    "    # now convert decimal to 'to_base' base\n",
    "    alphabet = \"0123456789ABCDEFGHIJKLMNOPQRSTUVWXYZ\"\n",
    "    if n < to_base:\n",
    "        return alphabet[n]\n",
    "    else:\n",
    "        return convert_base(n // to_base, to_base) + alphabet[n % to_base]"
   ]
  },
  {
   "cell_type": "code",
   "execution_count": 5,
   "metadata": {},
   "outputs": [],
   "source": [
    "def XORbuffer(buf1,buf2):\n",
    "    final_str=\"\"\n",
    "    buf1_2=convert_base(str(buf1), from_base=16,to_base=2)\n",
    "    buf2_2=convert_base(str(buf2), from_base=16,to_base=2)\n",
    "    for i in range(len(buf1_2)):\n",
    "        bit=int(buf1_2[i])^int(buf2_2[i])\n",
    "        final_str=final_str+str(bit)\n",
    "    final_str_convert=convert_base(str(final_str), from_base=2,to_base=16)\n",
    "    final_str_convert=final_str_convert.zfill(len(buf1))\n",
    "    return final_str_convert"
   ]
  },
  {
   "cell_type": "code",
   "execution_count": 6,
   "metadata": {},
   "outputs": [],
   "source": [
    "def XORbin(buf1,buf2):\n",
    "    final_str=\"\"\n",
    "    #print(abs(len(str(buf1))-len(str(buf2))),str(buf1))\n",
    "    for i in range(abs(len(buf1)-len(buf2))):\n",
    "        if (len(buf1)>len(buf2)):\n",
    "            buf2=\"0\"+buf2\n",
    "        if (len(buf1)<len(buf2)):\n",
    "            buf1=\"0\"+buf1\n",
    "    #print(buf1,buf2,\"<-aftermoderation\")\n",
    "    for i in range(len(buf1)):\n",
    "        bit=int(buf1[i])^int(buf2[i])\n",
    "        final_str=final_str+str(bit)\n",
    "    #print(buf1,buf2,final_str,\"<-xor\")\n",
    "    return final_str"
   ]
  },
  {
   "cell_type": "code",
   "execution_count": 7,
   "metadata": {},
   "outputs": [],
   "source": [
    "def ConvertCharsStrToHex(str_val):\n",
    "    str_val= bytes(str_val, 'utf-8')\n",
    "    str_val=binascii.hexlify(str_val).decode('utf-8')\n",
    "    return str_val"
   ]
  },
  {
   "cell_type": "code",
   "execution_count": 8,
   "metadata": {},
   "outputs": [],
   "source": [
    "def ConvertShifrStrFromHex(str_hex):\n",
    "    text=bytes.fromhex(str_hex).decode(\"utf-8\")\n",
    "    max_sim=max([x for x in text if x in string.ascii_letters], key=text.count)\n",
    "    max_sim= ConvertCharsStrToHex(max_sim)\n",
    "    prob=ConvertCharsStrToHex(\" \")\n",
    "    max_sim_bin=convert_base(str(max_sim), from_base=16,to_base=2)\n",
    "    prob_bin=convert_base(str(prob), from_base=16,to_base=2)\n",
    "    key_str_bin=XORbin(prob_bin,max_sim_bin)\n",
    "    #key_str_bin=convert_base(str(key_str_hex), from_base=16,to_base=2)\n",
    "    final_str_bytes=\"\"\n",
    "    for i in range(len(text)):\n",
    "        #print(text[i])\n",
    "        aint=convert_base(str(ConvertCharsStrToHex(text[i])), from_base=16,to_base=2)\n",
    "        #print(aint,key_str_hex)\n",
    "        xor_sim=XORbin(key_str_bin,aint)\n",
    "        #print(xor_sim)\n",
    "        final_str_convert=convert_base(xor_sim, from_base=2,to_base=16)\n",
    "        if (len(final_str_convert)%2!=0):\n",
    "            final_str_convert=\"0\"+final_str_convert\n",
    "        final_str_bytes=final_str_bytes+bytes.fromhex(final_str_convert).decode(\"utf-8\")\n",
    "    return final_str_bytes"
   ]
  },
  {
   "cell_type": "code",
   "execution_count": 9,
   "metadata": {},
   "outputs": [
    {
     "data": {
      "text/plain": [
       "'An investment in knowledge always pays the best interest'"
      ]
     },
     "execution_count": 9,
     "metadata": {},
     "output_type": "execute_result"
    }
   ],
   "source": [
    "ConvertShifrStrFromHex('19367831362e3d2b2c353d362c783136783336372f343d3c3f3d7839342f39212b782839212b782c303d783a3d2b2c7831362c3d2a3d2b2c')"
   ]
  },
  {
   "cell_type": "code",
   "execution_count": null,
   "metadata": {},
   "outputs": [],
   "source": []
  },
  {
   "cell_type": "code",
   "execution_count": null,
   "metadata": {},
   "outputs": [],
   "source": []
  }
 ],
 "metadata": {
  "kernelspec": {
   "display_name": "Python 3",
   "language": "python",
   "name": "python3"
  },
  "language_info": {
   "codemirror_mode": {
    "name": "ipython",
    "version": 3
   },
   "file_extension": ".py",
   "mimetype": "text/x-python",
   "name": "python",
   "nbconvert_exporter": "python",
   "pygments_lexer": "ipython3",
   "version": "3.7.3"
  }
 },
 "nbformat": 4,
 "nbformat_minor": 2
}
