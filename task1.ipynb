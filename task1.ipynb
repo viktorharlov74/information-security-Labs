{
 "cells": [
  {
   "cell_type": "code",
   "execution_count": 14,
   "metadata": {},
   "outputs": [],
   "source": [
    "def convert_base(num, to_base=10, from_base=10):\n",
    "    # first convert to decimal number\n",
    "    if isinstance(num, str):\n",
    "        n = int(num, from_base)\n",
    "    else:\n",
    "        n = int(num)\n",
    "    # now convert decimal to 'to_base' base\n",
    "    alphabet = \"0123456789ABCDEFGHIJKLMNOPQRSTUVWXYZ\"\n",
    "    if n < to_base:\n",
    "        return alphabet[n]\n",
    "    else:\n",
    "        return convert_base(n // to_base, to_base) + alphabet[n % to_base]\n"
   ]
  },
  {
   "cell_type": "code",
   "execution_count": 15,
   "metadata": {},
   "outputs": [],
   "source": [
    "def DecodeBaseFromBin(test,lens_2):\n",
    "    mas=\"ABCDEFGHIJKLMNOPQRSTUVWXYZabcdefghijklmnopqrstuvwxyz0123456789+/\"\n",
    "    str_final=\"\"\n",
    "    last_i=0\n",
    "    for i in range(6,lens_2+1,6):\n",
    "        if (i==lens_2-1):\n",
    "            tempblock=test[last_i:]\n",
    "        else:\n",
    "            tempblock=test[last_i:i]\n",
    "        ten_block=convert_base(tempblock, from_base=2,to_base=10)\n",
    "\n",
    "        str_final=str_final+mas[int(ten_block)]\n",
    "\n",
    "        last_i=i\n",
    "    return(str_final)"
   ]
  },
  {
   "cell_type": "code",
   "execution_count": 19,
   "metadata": {},
   "outputs": [],
   "source": [
    "def DecodeEndFromBin(test,lens_2,ost_2):\n",
    "    new_str=test[lens_2:]\n",
    "    add_ravn=(24-ost_2)\n",
    "    if (add_ravn%16==0):\n",
    "        add_ravn=2\n",
    "    else:\n",
    "        add_ravn=1\n",
    "    ost_new_swr=len(new_str)%6\n",
    "    if (ost_new_swr!=0):\n",
    "        lens_new=abs(ost_new_swr-6)\n",
    "        for i in range(lens_new):\n",
    "            new_str=new_str+\"0\"\n",
    "\n",
    "    end=DecodeBaseFromBin(new_str,len(new_str))\n",
    "\n",
    "    for i in range(add_ravn):\n",
    "        end=end+\"=\"\n",
    "\n",
    "    return end\n",
    "\n"
   ]
  },
  {
   "cell_type": "code",
   "execution_count": 20,
   "metadata": {},
   "outputs": [],
   "source": [
    "def DecodeBase64FromHex(test):\n",
    "    test=convert_base(test, from_base=16,to_base=2)\n",
    "    lentest=len(test)\n",
    "    ost=lentest%4\n",
    "    if (ost!=0):\n",
    "        if (ost==3):\n",
    "            lens=abs(ost-4)\n",
    "            for i in range(lens):\n",
    "                test=\"0\"+test\n",
    "    lentest_2=len(test)\n",
    "    ost_2=lentest_2%24\n",
    "    lens_2=lentest_2-ost_2\n",
    "    base_str=DecodeBaseFromBin(test,lens_2)\n",
    "    if (ost_2!=0):\n",
    "        end_str=DecodeEndFromBin(test,lens_2,ost_2)\n",
    "        return base_str+end_str\n",
    "    else:\n",
    "        return base_str"
   ]
  },
  {
   "cell_type": "code",
   "execution_count": 22,
   "metadata": {},
   "outputs": [
    {
     "data": {
      "text/plain": [
       "'SSdtIHN0dWR5aW5nIENyeXB0b2dyYXBoeSBsaWtlIENsYXVkZSBFbHdvb2QgU2hhbm5vbiE='"
      ]
     },
     "execution_count": 22,
     "metadata": {},
     "output_type": "execute_result"
    }
   ],
   "source": [
    "DecodeBase64FromHex(\"49276d207374756479696e672043727970746f677261706879206c696b6520436c6175646520456c776f6f64205368616e6e6f6e21\")"
   ]
  },
  {
   "cell_type": "code",
   "execution_count": null,
   "metadata": {},
   "outputs": [],
   "source": []
  }
 ],
 "metadata": {
  "kernelspec": {
   "display_name": "Python 3",
   "language": "python",
   "name": "python3"
  },
  "language_info": {
   "codemirror_mode": {
    "name": "ipython",
    "version": 3
   },
   "file_extension": ".py",
   "mimetype": "text/x-python",
   "name": "python",
   "nbconvert_exporter": "python",
   "pygments_lexer": "ipython3",
   "version": "3.7.3"
  }
 },
 "nbformat": 4,
 "nbformat_minor": 2
}
