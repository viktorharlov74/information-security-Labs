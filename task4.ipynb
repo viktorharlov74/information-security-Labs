{
 "cells": [
  {
   "cell_type": "code",
   "execution_count": 5,
   "metadata": {},
   "outputs": [
    {
     "data": {
      "text/plain": [
       "b'\\x196x16.=+,5=6,x16x367/4=<?=x94/9!+x(9!+x,0=x:=+,x16,=*=+,'"
      ]
     },
     "execution_count": 5,
     "metadata": {},
     "output_type": "execute_result"
    }
   ],
   "source": [
    "bytes.fromhex('19367831362e3d2b2c353d362c783136783336372f343d3c3f3d7839342f39212b782839212b782c303d783a3d2b2c7831362c3d2a3d2b2c')"
   ]
  },
  {
   "cell_type": "code",
   "execution_count": 6,
   "metadata": {},
   "outputs": [],
   "source": [
    "import binascii"
   ]
  },
  {
   "cell_type": "code",
   "execution_count": 7,
   "metadata": {},
   "outputs": [],
   "source": [
    "import string"
   ]
  },
  {
   "cell_type": "code",
   "execution_count": 8,
   "metadata": {},
   "outputs": [],
   "source": [
    "#Функция для конвертации из одной системы счисления в другую\n",
    "def convert_base(num, to_base=10, from_base=10):\n",
    "    # first convert to decimal number\n",
    "    if isinstance(num, str):\n",
    "        n = int(num, from_base)\n",
    "    else:\n",
    "        n = int(num)\n",
    "    # now convert decimal to 'to_base' base\n",
    "    alphabet = \"0123456789ABCDEFGHIJKLMNOPQRSTUVWXYZ\"\n",
    "    if n < to_base:\n",
    "        return alphabet[n]\n",
    "    else:\n",
    "        return convert_base(n // to_base, to_base) + alphabet[n % to_base]"
   ]
  },
  {
   "cell_type": "code",
   "execution_count": 9,
   "metadata": {},
   "outputs": [],
   "source": [
    "#xor для двух 16ричных строк одинаковой длины\n",
    "def XORbuffer(buf1,buf2):\n",
    "    final_str=\"\"\n",
    "    buf1_2=convert_base(str(buf1), from_base=16,to_base=2)\n",
    "    buf2_2=convert_base(str(buf2), from_base=16,to_base=2)\n",
    "    for i in range(len(buf1_2)):\n",
    "        bit=int(buf1_2[i])^int(buf2_2[i])\n",
    "        final_str=final_str+str(bit)\n",
    "    final_str_convert=convert_base(str(final_str), from_base=2,to_base=16)\n",
    "    return final_str_convert"
   ]
  },
  {
   "cell_type": "code",
   "execution_count": 10,
   "metadata": {},
   "outputs": [],
   "source": [
    "#Функция делает XOR для двух бинарных строк\n",
    "def XORbin(buf1,buf2):\n",
    "    final_str=\"\"\n",
    "    #print(abs(len(str(buf1))-len(str(buf2))),str(buf1))\n",
    "    for i in range(abs(len(buf1)-len(buf2))):\n",
    "        if (len(buf1)>len(buf2)):\n",
    "            buf2=\"0\"+buf2\n",
    "        if (len(buf1)<len(buf2)):\n",
    "            buf1=\"0\"+buf1\n",
    "    #print(buf1,buf2,\"<-aftermoderation\")\n",
    "    for i in range(len(buf1)):\n",
    "        bit=int(buf1[i])^int(buf2[i])\n",
    "        final_str=final_str+str(bit)\n",
    "    #print(buf1,buf2,final_str,\"<-xor\")\n",
    "    return final_str"
   ]
  },
  {
   "cell_type": "code",
   "execution_count": 66,
   "metadata": {},
   "outputs": [],
   "source": [
    "#Функция для конвертация символа в 16ричное значение\n",
    "def ConvertCharsStrToHex(str_val):\n",
    "    str_val= bytes(str_val, 'latin-1')\n",
    "    str_val=binascii.hexlify(str_val).decode('latin-1')\n",
    "    #print(str_val,\"str_val\")\n",
    "    return str_val"
   ]
  },
  {
   "cell_type": "code",
   "execution_count": 81,
   "metadata": {},
   "outputs": [],
   "source": [
    "def ConvertShifrStrFromHex(str_hex):\n",
    "    text=bytes.fromhex(str_hex).decode(\"latin1\")\n",
    "    #print(text,\"text ConvertShifrStrFromHex\")\n",
    "    max_sim=max([x for x in text if x in string.ascii_letters], key=text.count)\n",
    "    max_sim= ConvertCharsStrToHex(max_sim)\n",
    "    prob=ConvertCharsStrToHex(\" \")\n",
    "    max_sim_bin=convert_base(str(max_sim), from_base=16,to_base=2)\n",
    "    prob_bin=convert_base(str(prob), from_base=16,to_base=2)\n",
    "    key_str_bin=XORbin(prob_bin,max_sim_bin)\n",
    "    #key_str_bin=convert_base(str(key_str_hex), from_base=16,to_base=2)\n",
    "    final_str_bytes=\"\"\n",
    "    for i in range(len(text)):\n",
    "        #print(text[i])\n",
    "        aint=convert_base(str(ConvertCharsStrToHex(text[i])), from_base=16,to_base=2)\n",
    "        #print(aint,key_str_hex)\n",
    "        xor_sim=XORbin(key_str_bin,aint)\n",
    "        #print(xor_sim)\n",
    "        final_str_convert=convert_base(xor_sim, from_base=2,to_base=16)\n",
    "        if (len(final_str_convert)%2!=0):\n",
    "            final_str_convert=\"0\"+final_str_convert\n",
    "        final_str_bytes=final_str_bytes+bytes.fromhex(final_str_convert).decode(\"latin1\")\n",
    "    return final_str_bytes"
   ]
  },
  {
   "cell_type": "code",
   "execution_count": 120,
   "metadata": {},
   "outputs": [],
   "source": [
    "def ConvertShifrStrFromHexKey(str_hex,key):\n",
    "    text=bytes.fromhex(str_hex).decode(\"latin1\")\n",
    "    #print(text,\"text ConvertShifrStrFromHex\")\n",
    "    max_sim=max([x for x in text if x in string.ascii_letters], key=text.count)\n",
    "    max_sim= ConvertCharsStrToHex(max_sim)\n",
    "    prob=ConvertCharsStrToHex(key)\n",
    "    max_sim_bin=convert_base(str(max_sim), from_base=16,to_base=2)\n",
    "    prob_bin=convert_base(str(prob), from_base=16,to_base=2)\n",
    "    key_str_bin=XORbin(prob_bin,max_sim_bin)\n",
    "    #key_str_bin=convert_base(str(key_str_hex), from_base=16,to_base=2)\n",
    "    final_str_bytes=\"\"\n",
    "    for i in range(len(text)):\n",
    "        #print(text[i])\n",
    "        aint=convert_base(str(ConvertCharsStrToHex(text[i])), from_base=16,to_base=2)\n",
    "        #print(aint,key_str_hex)\n",
    "        xor_sim=XORbin(key_str_bin,aint)\n",
    "        #print(xor_sim)\n",
    "        final_str_convert=convert_base(xor_sim, from_base=2,to_base=16)\n",
    "        if (len(final_str_convert)%2!=0):\n",
    "            final_str_convert=\"0\"+final_str_convert\n",
    "        final_str_bytes=final_str_bytes+bytes.fromhex(final_str_convert).decode(\"latin1\")\n",
    "    return final_str_bytes"
   ]
  },
  {
   "cell_type": "code",
   "execution_count": 121,
   "metadata": {},
   "outputs": [],
   "source": [
    "#Функция для проверки зашифрованной строки\n",
    "def CheckDedhifrStr(str_deshifr):\n",
    "    min_dec=int(convert_base('20', from_base=16,to_base=10))\n",
    "    #print(min_dec,\"min_dec\")\n",
    "    max_dec=int(convert_base('A0', from_base=16,to_base=10))\n",
    "    #print(max_dec,\"max\")\n",
    "    for i in range(len(str_deshifr)):\n",
    "        #print(str_deshifr[i],\"str_deshifr[i]\")\n",
    "        hex_simb=ConvertCharsStrToHex(str_deshifr[i])\n",
    "        dec_simb=int(convert_base(hex_simb, from_base=16,to_base=10))\n",
    "        #print(dec_simb,\"dec_simb\")\n",
    "        if ((dec_simb<min_dec)or(dec_simb>max_dec)):\n",
    "            return -1\n",
    "        else:\n",
    "            continue\n",
    "    return 0"
   ]
  },
  {
   "cell_type": "code",
   "execution_count": 126,
   "metadata": {},
   "outputs": [],
   "source": [
    "#Главная функция для поиска зашифрованной строки на вход принемает имя файла и возвращает первую защифрованную строку или -1 если такой строки нету\n",
    "def FindShiftStrFromFile(file_name):\n",
    "    f = open(file_name)\n",
    "    most_frequent_characters=[' ','e','a','i', 'o']\n",
    "    for key in most_frequent_characters: \n",
    "        for line in f:\n",
    "            #print(line)\n",
    "            deshifr_str=ConvertShifrStrFromHexKey(line,key)\n",
    "            if (CheckDedhifrStr(deshifr_str)!=-1):\n",
    "                #print(deshifr_str)\n",
    "                return deshifr_str\n",
    "            else:\n",
    "                continue\n",
    "    return -1"
   ]
  },
  {
   "cell_type": "code",
   "execution_count": 127,
   "metadata": {},
   "outputs": [
    {
     "data": {
      "text/plain": [
       "'Kakim umnym ja sebja chuvstvuu'"
      ]
     },
     "execution_count": 127,
     "metadata": {},
     "output_type": "execute_result"
    }
   ],
   "source": [
    "file_name='task14.input'\n",
    "FindShiftStrFromFile(file_name)"
   ]
  },
  {
   "cell_type": "code",
   "execution_count": null,
   "metadata": {},
   "outputs": [],
   "source": []
  }
 ],
 "metadata": {
  "kernelspec": {
   "display_name": "Python 3",
   "language": "python",
   "name": "python3"
  },
  "language_info": {
   "codemirror_mode": {
    "name": "ipython",
    "version": 3
   },
   "file_extension": ".py",
   "mimetype": "text/x-python",
   "name": "python",
   "nbconvert_exporter": "python",
   "pygments_lexer": "ipython3",
   "version": "3.7.3"
  }
 },
 "nbformat": 4,
 "nbformat_minor": 2
}
